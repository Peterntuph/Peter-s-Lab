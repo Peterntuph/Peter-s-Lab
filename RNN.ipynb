{
 "cells": [
  {
   "cell_type": "code",
   "execution_count": 1,
   "metadata": {},
   "outputs": [
    {
     "name": "stdout",
     "output_type": "stream",
     "text": [
      "env: KERAS_BACKEND=tensorflow\n"
     ]
    },
    {
     "name": "stderr",
     "output_type": "stream",
     "text": [
      "Using TensorFlow backend.\n"
     ]
    }
   ],
   "source": [
    "%env KERAS_BACKEND=tensorflow\n",
    "%matplotlib inline\n",
    "import numpy as np\n",
    "import matplotlib.pyplot as plt\n",
    "from keras.datasets import imdb"
   ]
  },
  {
   "cell_type": "code",
   "execution_count": 2,
   "metadata": {},
   "outputs": [
    {
     "name": "stdout",
     "output_type": "stream",
     "text": [
      "Downloading data from https://s3.amazonaws.com/text-datasets/imdb.npz\n",
      "17465344/17464789 [==============================] - 20s 1us/step\n"
     ]
    }
   ],
   "source": [
    "(x_train, y_train), (x_test, y_test) = imdb.load_data(num_words = 10000)"
   ]
  },
  {
   "cell_type": "code",
   "execution_count": 3,
   "metadata": {},
   "outputs": [],
   "source": [
    "from keras.preprocessing import sequence\n",
    "x_train1 = sequence.pad_sequences(x_train,maxlen=150)\n",
    "x_test1 = sequence.pad_sequences(x_test,maxlen=150) "
   ]
  },
  {
   "cell_type": "markdown",
   "metadata": {},
   "source": [
    "# 課堂之模型"
   ]
  },
  {
   "cell_type": "code",
   "execution_count": 4,
   "metadata": {},
   "outputs": [],
   "source": [
    "from keras.models import Sequential\n",
    "from keras.layers import Dense , Embedding\n",
    "from keras.layers import LSTM"
   ]
  },
  {
   "cell_type": "code",
   "execution_count": 5,
   "metadata": {},
   "outputs": [
    {
     "name": "stdout",
     "output_type": "stream",
     "text": [
      "WARNING:tensorflow:From C:\\Users\\Peter\\Anaconda3\\lib\\site-packages\\tensorflow\\python\\framework\\op_def_library.py:263: colocate_with (from tensorflow.python.framework.ops) is deprecated and will be removed in a future version.\n",
      "Instructions for updating:\n",
      "Colocations handled automatically by placer.\n",
      "WARNING:tensorflow:From C:\\Users\\Peter\\Anaconda3\\lib\\site-packages\\tensorflow\\python\\ops\\math_ops.py:3066: to_int32 (from tensorflow.python.ops.math_ops) is deprecated and will be removed in a future version.\n",
      "Instructions for updating:\n",
      "Use tf.cast instead.\n",
      "Train on 25000 samples, validate on 25000 samples\n",
      "Epoch 1/5\n",
      "25000/25000 [==============================] - 95s 4ms/step - loss: 0.5136 - acc: 0.7485 - val_loss: 0.3835 - val_acc: 0.8429\n",
      "Epoch 2/5\n",
      "25000/25000 [==============================] - 87s 3ms/step - loss: 0.3051 - acc: 0.8827 - val_loss: 0.3646 - val_acc: 0.8459\n",
      "Epoch 3/5\n",
      "25000/25000 [==============================] - 84s 3ms/step - loss: 0.2376 - acc: 0.9142 - val_loss: 0.3447 - val_acc: 0.8608\n",
      "Epoch 4/5\n",
      "25000/25000 [==============================] - 84s 3ms/step - loss: 0.1982 - acc: 0.9311 - val_loss: 0.3520 - val_acc: 0.8565\n",
      "Epoch 5/5\n",
      "25000/25000 [==============================] - 85s 3ms/step - loss: 0.1730 - acc: 0.9425 - val_loss: 0.4007 - val_acc: 0.8486\n"
     ]
    },
    {
     "data": {
      "text/plain": [
       "<keras.callbacks.History at 0x7166e5c128>"
      ]
     },
     "execution_count": 5,
     "metadata": {},
     "output_type": "execute_result"
    }
   ],
   "source": [
    "N = 3 #文字壓縮到幾維\n",
    "K = 4 #LSTM層幾個神經元\n",
    "model = Sequential()\n",
    "model.add(Embedding(10000,N))\n",
    "model.add(LSTM(K))\n",
    "model.add(Dense(1,activation='sigmoid'))\n",
    "model.compile(loss='binary_crossentropy', optimizer='adam', metrics=['accuracy'])\n",
    "model.fit(x_train1,y_train,batch_size =32,epochs = 5,validation_data = (x_test1, y_test))"
   ]
  },
  {
   "cell_type": "markdown",
   "metadata": {},
   "source": [
    "# 自己建模型"
   ]
  },
  {
   "cell_type": "code",
   "execution_count": 6,
   "metadata": {},
   "outputs": [],
   "source": [
    "N = 6 #文字壓縮到幾維\n",
    "K = 9 #LSTM層幾個神經元\n",
    "model1 = Sequential()\n",
    "model1.add(Embedding(10000,N))\n",
    "model1.add(LSTM(K))\n",
    "model1.add(Dense(1,activation='sigmoid'))\n",
    "model1.compile(loss='binary_crossentropy', optimizer='adam', metrics=['accuracy'])"
   ]
  },
  {
   "cell_type": "code",
   "execution_count": 7,
   "metadata": {},
   "outputs": [
    {
     "name": "stdout",
     "output_type": "stream",
     "text": [
      "_________________________________________________________________\n",
      "Layer (type)                 Output Shape              Param #   \n",
      "=================================================================\n",
      "embedding_2 (Embedding)      (None, None, 6)           60000     \n",
      "_________________________________________________________________\n",
      "lstm_2 (LSTM)                (None, 9)                 576       \n",
      "_________________________________________________________________\n",
      "dense_2 (Dense)              (None, 1)                 10        \n",
      "=================================================================\n",
      "Total params: 60,586\n",
      "Trainable params: 60,586\n",
      "Non-trainable params: 0\n",
      "_________________________________________________________________\n"
     ]
    }
   ],
   "source": [
    "model1.summary()"
   ]
  },
  {
   "cell_type": "code",
   "execution_count": 8,
   "metadata": {},
   "outputs": [
    {
     "name": "stdout",
     "output_type": "stream",
     "text": [
      "Train on 25000 samples, validate on 25000 samples\n",
      "Epoch 1/5\n",
      "25000/25000 [==============================] - 62s 2ms/step - loss: 0.4813 - acc: 0.7717 - val_loss: 0.3412 - val_acc: 0.8617\n",
      "Epoch 2/5\n",
      "25000/25000 [==============================] - 46s 2ms/step - loss: 0.2699 - acc: 0.8977 - val_loss: 0.3289 - val_acc: 0.8660\n",
      "Epoch 3/5\n",
      "25000/25000 [==============================] - 44s 2ms/step - loss: 0.2048 - acc: 0.9261 - val_loss: 0.3253 - val_acc: 0.8606\n",
      "Epoch 4/5\n",
      "25000/25000 [==============================] - 44s 2ms/step - loss: 0.1712 - acc: 0.9422 - val_loss: 0.4364 - val_acc: 0.8492\n",
      "Epoch 5/5\n",
      "25000/25000 [==============================] - 45s 2ms/step - loss: 0.1406 - acc: 0.9524 - val_loss: 0.3941 - val_acc: 0.8520\n"
     ]
    },
    {
     "data": {
      "text/plain": [
       "<keras.callbacks.History at 0x7147bcd2e8>"
      ]
     },
     "execution_count": 8,
     "metadata": {},
     "output_type": "execute_result"
    }
   ],
   "source": [
    "model1.fit(x_train1,y_train,batch_size =64 ,epochs = 5,validation_data = (x_test1, y_test))"
   ]
  },
  {
   "cell_type": "code",
   "execution_count": 11,
   "metadata": {},
   "outputs": [
    {
     "name": "stdout",
     "output_type": "stream",
     "text": [
      "25000/25000 [==============================] - 17s 689us/step\n"
     ]
    }
   ],
   "source": [
    "score = model1.evaluate(x_test1, y_test)"
   ]
  },
  {
   "cell_type": "code",
   "execution_count": 12,
   "metadata": {},
   "outputs": [
    {
     "name": "stdout",
     "output_type": "stream",
     "text": [
      "測試資料的 loss = 0.3940972464466095\n",
      "測試資正確率 = 0.852\n"
     ]
    }
   ],
   "source": [
    "print(f'測試資料的 loss = {score[0]}')\n",
    "print(f'測試資正確率 = {score[1]}')"
   ]
  },
  {
   "cell_type": "markdown",
   "metadata": {},
   "source": [
    "# 的確有提升個2%左右，但仍有進步空間。並發現有些overfit而加上dropout。"
   ]
  },
  {
   "cell_type": "code",
   "execution_count": 14,
   "metadata": {},
   "outputs": [
    {
     "name": "stdout",
     "output_type": "stream",
     "text": [
      "WARNING:tensorflow:From C:\\Users\\Peter\\Anaconda3\\lib\\site-packages\\keras\\backend\\tensorflow_backend.py:3368: calling dropout (from tensorflow.python.ops.nn_ops) with keep_prob is deprecated and will be removed in a future version.\n",
      "Instructions for updating:\n",
      "Please use `rate` instead of `keep_prob`. Rate should be set to `rate = 1 - keep_prob`.\n"
     ]
    }
   ],
   "source": [
    "from keras.layers import Dropout\n",
    "N = 100 #文字壓縮到幾維\n",
    "K = 25 #LSTM層幾個神經元\n",
    "model2 = Sequential()\n",
    "model2.add(Embedding(10000,N))\n",
    "model.add(Dropout(0.25))\n",
    "model2.add(LSTM(K))\n",
    "model.add(Dropout(0.25))\n",
    "model2.add(Dense(1,activation='sigmoid'))\n",
    "model2.compile(loss='binary_crossentropy', optimizer='adam', metrics=['accuracy'])"
   ]
  },
  {
   "cell_type": "code",
   "execution_count": 17,
   "metadata": {},
   "outputs": [
    {
     "name": "stdout",
     "output_type": "stream",
     "text": [
      "Train on 24750 samples, validate on 250 samples\n",
      "Epoch 1/5\n",
      "24750/24750 [==============================] - 104s 4ms/step - loss: 0.4226 - acc: 0.8026 - val_loss: 0.3040 - val_acc: 0.9000\n",
      "Epoch 2/5\n",
      "24750/24750 [==============================] - 97s 4ms/step - loss: 0.2414 - acc: 0.9053 - val_loss: 0.2730 - val_acc: 0.9040\n",
      "Epoch 3/5\n",
      "24750/24750 [==============================] - 100s 4ms/step - loss: 0.1750 - acc: 0.9345 - val_loss: 0.3332 - val_acc: 0.8720\n",
      "Epoch 4/5\n",
      "24750/24750 [==============================] - 97s 4ms/step - loss: 0.1256 - acc: 0.9552 - val_loss: 0.3488 - val_acc: 0.8560\n",
      "Epoch 5/5\n",
      "24750/24750 [==============================] - 98s 4ms/step - loss: 0.0918 - acc: 0.9678 - val_loss: 0.4724 - val_acc: 0.8480\n"
     ]
    },
    {
     "data": {
      "text/plain": [
       "<keras.callbacks.History at 0x7160328fd0>"
      ]
     },
     "execution_count": 17,
     "metadata": {},
     "output_type": "execute_result"
    }
   ],
   "source": [
    "model2.fit(x_train1, y_train, validation_split=0.01,batch_size=32, epochs=5)"
   ]
  },
  {
   "cell_type": "code",
   "execution_count": 18,
   "metadata": {},
   "outputs": [
    {
     "name": "stdout",
     "output_type": "stream",
     "text": [
      "25000/25000 [==============================] - 18s 724us/step\n",
      "測試資料的 loss = 0.4827397626543045\n",
      "測試資正確率 = 0.85704\n"
     ]
    }
   ],
   "source": [
    "score = model2.evaluate(x_test1, y_test)\n",
    "print(f'測試資料的 loss = {score[0]}')\n",
    "print(f'測試資正確率 = {score[1]}')"
   ]
  },
  {
   "cell_type": "markdown",
   "metadata": {},
   "source": [
    "# 發現 EarlyStopping 可用來追蹤驗證集上的正確率!! 來抓max看看"
   ]
  },
  {
   "cell_type": "code",
   "execution_count": 21,
   "metadata": {},
   "outputs": [],
   "source": [
    "from keras.callbacks import EarlyStopping\n",
    "from keras.layers import Dropout\n",
    "early_stopping = EarlyStopping(monitor='val_acc',verbose=2,mode='max',patience=1)\n",
    "N = 100 #文字壓縮到幾維\n",
    "K = 25 #LSTM層幾個神經元\n",
    "model3 = Sequential()\n",
    "model3.add(Embedding(10000,N))\n",
    "model3.add(Dropout(0.25))\n",
    "model3.add(LSTM(K))\n",
    "model3.add(Dropout(0.25))\n",
    "model3.add(Dense(1,activation='sigmoid'))"
   ]
  },
  {
   "cell_type": "code",
   "execution_count": 23,
   "metadata": {},
   "outputs": [
    {
     "name": "stdout",
     "output_type": "stream",
     "text": [
      "Train on 24750 samples, validate on 250 samples\n",
      "Epoch 1/10\n",
      "24750/24750 [==============================] - 120s 5ms/step - loss: 0.4125 - acc: 0.8102 - val_loss: 0.3621 - val_acc: 0.8640\n",
      "Epoch 2/10\n",
      "24750/24750 [==============================] - 113s 5ms/step - loss: 0.2471 - acc: 0.9034 - val_loss: 0.2972 - val_acc: 0.8680\n",
      "Epoch 3/10\n",
      "24750/24750 [==============================] - 108s 4ms/step - loss: 0.1824 - acc: 0.9322 - val_loss: 0.2902 - val_acc: 0.8800\n",
      "Epoch 4/10\n",
      "24750/24750 [==============================] - 105s 4ms/step - loss: 0.1388 - acc: 0.9505 - val_loss: 0.4313 - val_acc: 0.8560\n",
      "Epoch 00004: early stopping\n"
     ]
    },
    {
     "data": {
      "text/plain": [
       "<keras.callbacks.History at 0x71604590b8>"
      ]
     },
     "execution_count": 23,
     "metadata": {},
     "output_type": "execute_result"
    }
   ],
   "source": [
    "model3.compile(loss='binary_crossentropy', optimizer='adam', metrics=['accuracy'])\n",
    "model3.fit(x_train1, y_train, validation_split=0.01,batch_size=32, epochs=10,callbacks=[early_stopping])"
   ]
  },
  {
   "cell_type": "code",
   "execution_count": 26,
   "metadata": {},
   "outputs": [
    {
     "name": "stdout",
     "output_type": "stream",
     "text": [
      "25000/25000 [==============================] - 18s 731us/step\n",
      "測試資料的 loss = 0.4386029398012161\n",
      "測試資正確率 = 0.856\n"
     ]
    }
   ],
   "source": [
    "score = model3.evaluate(x_test1, y_test)\n",
    "print(f'測試資料的 loss = {score[0]}')\n",
    "print(f'測試資正確率 = {score[1]}')"
   ]
  },
  {
   "cell_type": "markdown",
   "metadata": {},
   "source": [
    "# val_acc曾經達到 0.8800，但在early stopping當下為0.856"
   ]
  },
  {
   "cell_type": "code",
   "execution_count": null,
   "metadata": {},
   "outputs": [],
   "source": []
  }
 ],
 "metadata": {
  "kernelspec": {
   "display_name": "Python 3",
   "language": "python",
   "name": "python3"
  },
  "language_info": {
   "codemirror_mode": {
    "name": "ipython",
    "version": 3
   },
   "file_extension": ".py",
   "mimetype": "text/x-python",
   "name": "python",
   "nbconvert_exporter": "python",
   "pygments_lexer": "ipython3",
   "version": "3.6.8"
  }
 },
 "nbformat": 4,
 "nbformat_minor": 2
}
