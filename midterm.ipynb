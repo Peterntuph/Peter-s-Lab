{
 "cells": [
  {
   "cell_type": "code",
   "execution_count": 1,
   "metadata": {},
   "outputs": [],
   "source": [
    "#答案集\n",
    "import random\n",
    "import time\n",
    "answers = ['這是必然', '肯定是的', '不用懷疑', '毫無疑問', '如我所見，是的', '很有可能', '外表很好', '標誌指出「是的」','放心吧，可以的'\n",
    "           , '回覆攏統，再試試', '待會再問', '最好現在不告訴你', '現在無法預測', '專心再問一次'\n",
    "           , '想的美', '我的回覆是「不」', '我的來源說「不」', '看來不太好', '很可疑']"
   ]
  },
  {
   "cell_type": "code",
   "execution_count": 2,
   "metadata": {},
   "outputs": [],
   "source": [
    "def Start():\n",
    "    print('問我一個你想問的問題吧!!!(是非題)')\n",
    "    question = input()\n",
    "    print (answers[random.randint(0, len(answers)-1)] )\n",
    "    print('')\n",
    "    print('')\n",
    "    print('但你可以參考以下結果')\n",
    "    time.sleep(1)\n",
    "    Solution(question)\n",
    "    print('')\n",
    "    print('')\n",
    "    Replay()"
   ]
  },
  {
   "cell_type": "code",
   "execution_count": 3,
   "metadata": {},
   "outputs": [],
   "source": [
    "def Replay():\n",
    "    print ('你有其他問題嗎? [Y/N] ')\n",
    "    reply = input()\n",
    "    if reply == 'Y':\n",
    "        Start()\n",
    "    elif reply == 'N':\n",
    "        exit()\n",
    "    else:\n",
    "        print('錯誤，請輸入Y 或是 N')\n",
    "        Replay()"
   ]
  },
  {
   "cell_type": "code",
   "execution_count": 4,
   "metadata": {},
   "outputs": [],
   "source": [
    "import requests\n",
    "from bs4 import BeautifulSoup\n",
    "\n",
    "def Solution(question):\n",
    "    # Google 搜尋 URL\n",
    "    google_url = 'https://www.google.com.tw/search'\n",
    "\n",
    "    # 查詢參數\n",
    "    my_params = {'q': question}\n",
    "\n",
    "    # Google 搜尋結果\n",
    "    r = requests.get(google_url, params = my_params)\n",
    "\n",
    "    if r.status_code == requests.codes.ok:\n",
    "        # 解析 HTML 原始碼\n",
    "        soup = BeautifulSoup(r.text, 'html.parser')\n",
    "\n",
    "        # 以 CSS 的選擇器來抓取 Google 的搜尋結果\n",
    "        items = soup.select('div.g > h3.r > a[href^=\"/url\"]')\n",
    "        for i in items:\n",
    "            print(\"標題：\" + i.text)\n",
    "            print(\"網址：\" + i.get('href'))\n",
    "            time.sleep(0.2)"
   ]
  },
  {
   "cell_type": "code",
   "execution_count": 5,
   "metadata": {},
   "outputs": [
    {
     "name": "stdout",
     "output_type": "stream",
     "text": [
      "  __  __          _____ _____ _____    ___  \n",
      " |  \\/  |   /\\   / ____|_   _/ ____|  / _ \\ \n",
      " | \\  / |  /  \\ | |  __  | || |      | (_) |\n",
      " | |\\/| | / /\\ \\| | |_ | | || |       > _ < \n",
      " | |  | |/ ____ \\ |__| |_| || |____  | (_) |\n",
      " |_|  |_/_/    \\_\\_____|_____\\_____|  \\___/ \n",
      "\n",
      "\n",
      "嗨你好，歡迎來到神奇8號球，請問你叫?\n",
      "Peter\n",
      "你好 Peter\n",
      "問我一個你想問的問題吧!!!(是非題)\n",
      "你是男的嗎?\n",
      "不用懷疑\n",
      "\n",
      "\n",
      "但你可以參考以下結果\n",
      "標題：你是男的还是女的英文怎么说_百度知道\n",
      "網址：/url?q=https://zhidao.baidu.com/question/180384980.html&sa=U&ved=0ahUKEwjLjYHCnNThAhWgyYsBHRJrCqIQFggTMAA&usg=AOvVaw1H7AqvYVfDkUzHWM9ZU2RB\n",
      "標題：你內心深處到底是男是女- fun8 心理測驗 - 放鬆吧心理測驗- fun8\n",
      "網址：/url?q=https://fun8.us/post/2180.html&sa=U&ved=0ahUKEwjLjYHCnNThAhWgyYsBHRJrCqIQFggYMAE&usg=AOvVaw0v9DVpQbar3ldoKT_Zz7nk\n",
      "標題：肯腦濕的人生相談室- 「你告訴我，你是男的還是女的？」 「我是女生 ...\n",
      "網址：/url?q=https://zh-tw.facebook.com/KensTalking/posts/%25E4%25BD%25A0%25E5%2591%258A%25E8%25A8%25B4%25E6%2588%2591%25E4%25BD%25A0%25E6%2598%25AF%25E7%2594%25B7%25E7%259A%2584%25E9%2582%2584%25E6%2598%25AF%25E5%25A5%25B3%25E7%259A%2584%25E6%2588%2591%25E6%2598%25AF%25E5%25A5%25B3%25E7%2594%259F%25E5%259C%258B%25E5%25AE%25B6%25E7%259A%2584%25E6%25B3%2595%25E5%25BE%258B%25E4%25BD%25A0%25E6%2598%25AF%25E7%2594%25B7%25E7%259A%2584%25E9%2582%2584%25E6%2598%25AF%25E5%25A5%25B3%25E7%259A%2584%25E6%25AD%25A3%25E5%259C%25A8%25E6%2594%25B9%25E8%25AE%258A%25E4%25B8%25AD%25E5%25B0%258D%25E6%2589%2580%25E4%25BB%25A5%25E4%25BD%25A0%25E7%258F%25BE%25E5%259C%25A8%25E6%2598%25AF%25E7%2594%25B7%25E7%259A%2584%25E9%2582%2584%25E6%2598%25AF%25E5%25A5%25B3%25E7%259A%2584%25E6%2588%2591%25E9%2582%2584%25E6%2598%25AF%25E5%25A5%25B3%25E7%2594%259F%25E6%2589%2580%25E4%25BB%25A5%25E4%25BD%25A0%25E4%25B8%258D%25E6%2598%25AF%25E5%259C%258B%25E5%25AE%25B6%25E7%259A%2584%25E4%25BA%25BA%25E5%2597%258E%25E4%25BD%25A0%25E4%25B8%258D%25E8%25A6%2581%25E8%25B7%259F%25E6%2588%2591%25E8%25BE%25AF%25E9%2580%2599%25E6%259D%25B1%25E8%25A5%25BF%25E6%258C%2589%25E7%2585%25A7%25E5%259C%258B%25E5%25AE%25B6%25E8%25BA%25AB%25E4%25BB%25BD%25E6%258C%2589%25E7%2585%25A7%25E4%25BD%25A0/1811361432305323/&sa=U&ved=0ahUKEwjLjYHCnNThAhWgyYsBHRJrCqIQFggdMAI&usg=AOvVaw0XO45u514XAQC2rpzqm6Ta\n",
      "標題：心理測試：看看你內心深處到底是男是女| 心理測驗| 男女性格| 大紀元\n",
      "網址：/url?q=http://www.epochtimes.com/b5/17/8/29/n9578580.htm&sa=U&ved=0ahUKEwjLjYHCnNThAhWgyYsBHRJrCqIQFggiMAM&usg=AOvVaw1hyFQx3wOxZ3vb2SL69T_S\n",
      "標題：【 LES 】下次有人問你是男是女，你可以這樣回答... - GreatDaily\n",
      "網址：/url?q=http://www.twgreatdaily.com/cat54/node1258643&sa=U&ved=0ahUKEwjLjYHCnNThAhWgyYsBHRJrCqIQFggoMAQ&usg=AOvVaw1wouk_BClyKOu9-PMIySwR\n",
      "標題：【 你是男是女】 【 歌詞】共有12筆相關歌詞 - 魔鏡歌詞\n",
      "網址：/url?q=https://mojim.com/%25E4%25BD%25A0%25E6%2598%25AF%25E7%2594%25B7%25E6%2598%25AF%25E5%25A5%25B3.html%3Ft4&sa=U&ved=0ahUKEwjLjYHCnNThAhWgyYsBHRJrCqIQFgg2MAc&usg=AOvVaw1A8sSrmCmuSm9fTiBNGdgx\n",
      "標題：#les 如果你是男的| Meteor\n",
      "網址：/url?q=https://meteor.today/a/Tw43O2&sa=U&ved=0ahUKEwjLjYHCnNThAhWgyYsBHRJrCqIQFgg7MAg&usg=AOvVaw29v-43tPavfSxM4rgYCbaD\n",
      "標題：《你是男的我也爱》作者:angelina_在线阅读 - 思兔阅读\n",
      "網址：/url?q=https://www.sto.cx/mbook-37603-1.html&sa=U&ved=0ahUKEwjLjYHCnNThAhWgyYsBHRJrCqIQFghAMAk&usg=AOvVaw2EWZHb7G20-gVf1y1rbi-Y\n",
      "\n",
      "\n",
      "你有其他問題嗎? [Y/N] \n",
      "N\n"
     ]
    }
   ],
   "source": [
    "#進入介面\n",
    "print('  __  __          _____ _____ _____    ___  ')\n",
    "print(' |  \\/  |   /\\   / ____|_   _/ ____|  / _ \\ ')\n",
    "print(' | \\  / |  /  \\ | |  __  | || |      | (_) |')\n",
    "print(' | |\\/| | / /\\ \\| | |_ | | || |       > _ < ')\n",
    "print(' | |  | |/ ____ \\ |__| |_| || |____  | (_) |')\n",
    "print(' |_|  |_/_/    \\_\\_____|_____\\_____|  \\___/ ')\n",
    "print('')\n",
    "print('')\n",
    "print('嗨你好，歡迎來到神奇8號球，請問你叫?')\n",
    "names = input()\n",
    "time.sleep(0.3)\n",
    "print('你好 ' + names)\n",
    "Start()"
   ]
  }
 ],
 "metadata": {
  "kernelspec": {
   "display_name": "Python 3",
   "language": "python",
   "name": "python3"
  },
  "language_info": {
   "codemirror_mode": {
    "name": "ipython",
    "version": 3
   },
   "file_extension": ".py",
   "mimetype": "text/x-python",
   "name": "python",
   "nbconvert_exporter": "python",
   "pygments_lexer": "ipython3",
   "version": "3.6.4"
  }
 },
 "nbformat": 4,
 "nbformat_minor": 2
}
