{
 "cells": [
  {
   "cell_type": "code",
   "execution_count": 1,
   "metadata": {},
   "outputs": [
    {
     "name": "stderr",
     "output_type": "stream",
     "text": [
      "Using TensorFlow backend.\n"
     ]
    }
   ],
   "source": [
    "%matplotlib inline\n",
    "\n",
    "import numpy as np\n",
    "import matplotlib.pyplot as plt\n",
    "from keras.datasets import mnist\n",
    "from keras.models import Sequential, Model\n",
    "from keras.layers import Dense, Activation, Flatten, Conv2D, MaxPool2D\n",
    "from keras.optimizers import SGD, Adam\n",
    "from keras.utils import np_utils\n",
    "from ipywidgets import interact_manual\n",
    "(x_train, y_train), (x_test, y_test) = mnist.load_data()"
   ]
  },
  {
   "cell_type": "code",
   "execution_count": 2,
   "metadata": {},
   "outputs": [],
   "source": [
    "x_train = x_train.reshape(60000,28,28,1)\n",
    "x_test = x_test.reshape(10000,28,28,1)"
   ]
  },
  {
   "cell_type": "code",
   "execution_count": 3,
   "metadata": {},
   "outputs": [],
   "source": [
    "y_train = np_utils.to_categorical(y_train, 10)\n",
    "y_test = np_utils.to_categorical(y_test, 10)"
   ]
  },
  {
   "cell_type": "code",
   "execution_count": 4,
   "metadata": {},
   "outputs": [],
   "source": [
    "x_train = x_train/255\n",
    "x_test = x_test/255"
   ]
  },
  {
   "cell_type": "code",
   "execution_count": 5,
   "metadata": {},
   "outputs": [],
   "source": [
    "model = Sequential()"
   ]
  },
  {
   "cell_type": "code",
   "execution_count": 6,
   "metadata": {},
   "outputs": [
    {
     "name": "stdout",
     "output_type": "stream",
     "text": [
      "WARNING:tensorflow:From C:\\Users\\Peter\\Anaconda3\\lib\\site-packages\\tensorflow\\python\\framework\\op_def_library.py:263: colocate_with (from tensorflow.python.framework.ops) is deprecated and will be removed in a future version.\n",
      "Instructions for updating:\n",
      "Colocations handled automatically by placer.\n"
     ]
    }
   ],
   "source": [
    "model.add(Conv2D(16, (5,5), padding='same', input_shape=(28,28,1)))\n",
    "model.add(Activation('relu'))\n",
    "model.add(MaxPool2D(pool_size=(2,2)))\n",
    "\n",
    "model.add(Conv2D(8, (4,4), padding='same'))\n",
    "model.add(Activation('relu'))\n",
    "model.add(MaxPool2D(pool_size=(2,2)))\n",
    "\n",
    "model.add(Conv2D(4, (5,5), padding='same'))\n",
    "model.add(Activation('elu'))\n",
    "model.add(MaxPool2D(pool_size=(2,2)))\n",
    "\n",
    "model.add(Flatten())\n",
    "\n",
    "model.add(Dense(64))  #NN層\n",
    "model.add(Activation('relu'))\n",
    "\n",
    "model.add(Dense(16)) #NN層2\n",
    "model.add(Activation('relu'))\n",
    "\n",
    "model.add(Dense(10)) #輸出層\n",
    "model.add(Activation('softmax'))"
   ]
  },
  {
   "cell_type": "code",
   "execution_count": 7,
   "metadata": {},
   "outputs": [
    {
     "name": "stdout",
     "output_type": "stream",
     "text": [
      "_________________________________________________________________\n",
      "Layer (type)                 Output Shape              Param #   \n",
      "=================================================================\n",
      "conv2d_1 (Conv2D)            (None, 28, 28, 16)        416       \n",
      "_________________________________________________________________\n",
      "activation_1 (Activation)    (None, 28, 28, 16)        0         \n",
      "_________________________________________________________________\n",
      "max_pooling2d_1 (MaxPooling2 (None, 14, 14, 16)        0         \n",
      "_________________________________________________________________\n",
      "conv2d_2 (Conv2D)            (None, 14, 14, 8)         2056      \n",
      "_________________________________________________________________\n",
      "activation_2 (Activation)    (None, 14, 14, 8)         0         \n",
      "_________________________________________________________________\n",
      "max_pooling2d_2 (MaxPooling2 (None, 7, 7, 8)           0         \n",
      "_________________________________________________________________\n",
      "conv2d_3 (Conv2D)            (None, 7, 7, 4)           804       \n",
      "_________________________________________________________________\n",
      "activation_3 (Activation)    (None, 7, 7, 4)           0         \n",
      "_________________________________________________________________\n",
      "max_pooling2d_3 (MaxPooling2 (None, 3, 3, 4)           0         \n",
      "_________________________________________________________________\n",
      "flatten_1 (Flatten)          (None, 36)                0         \n",
      "_________________________________________________________________\n",
      "dense_1 (Dense)              (None, 64)                2368      \n",
      "_________________________________________________________________\n",
      "activation_4 (Activation)    (None, 64)                0         \n",
      "_________________________________________________________________\n",
      "dense_2 (Dense)              (None, 16)                1040      \n",
      "_________________________________________________________________\n",
      "activation_5 (Activation)    (None, 16)                0         \n",
      "_________________________________________________________________\n",
      "dense_3 (Dense)              (None, 10)                170       \n",
      "_________________________________________________________________\n",
      "activation_6 (Activation)    (None, 10)                0         \n",
      "=================================================================\n",
      "Total params: 6,854\n",
      "Trainable params: 6,854\n",
      "Non-trainable params: 0\n",
      "_________________________________________________________________\n"
     ]
    }
   ],
   "source": [
    "model.summary()"
   ]
  },
  {
   "cell_type": "code",
   "execution_count": 8,
   "metadata": {},
   "outputs": [],
   "source": [
    "model.compile(loss='categorical_crossentropy', optimizer = Adam(lr = 0.001), metrics = ['acc'])"
   ]
  },
  {
   "cell_type": "code",
   "execution_count": 9,
   "metadata": {},
   "outputs": [
    {
     "name": "stdout",
     "output_type": "stream",
     "text": [
      "WARNING:tensorflow:From C:\\Users\\Peter\\Anaconda3\\lib\\site-packages\\tensorflow\\python\\ops\\math_ops.py:3066: to_int32 (from tensorflow.python.ops.math_ops) is deprecated and will be removed in a future version.\n",
      "Instructions for updating:\n",
      "Use tf.cast instead.\n",
      "Train on 60000 samples, validate on 10000 samples\n",
      "Epoch 1/20\n",
      "60000/60000 [==============================] - 71s 1ms/step - loss: 0.2646 - acc: 0.9159 - val_loss: 0.1114 - val_acc: 0.9643\n",
      "Epoch 2/20\n",
      "60000/60000 [==============================] - 73s 1ms/step - loss: 0.0998 - acc: 0.9692 - val_loss: 0.0670 - val_acc: 0.9784\n",
      "Epoch 3/20\n",
      "60000/60000 [==============================] - 73s 1ms/step - loss: 0.0751 - acc: 0.9769 - val_loss: 0.0587 - val_acc: 0.9802\n",
      "Epoch 4/20\n",
      "60000/60000 [==============================] - 74s 1ms/step - loss: 0.0616 - acc: 0.9811 - val_loss: 0.0498 - val_acc: 0.9838\n",
      "Epoch 5/20\n",
      "60000/60000 [==============================] - 75s 1ms/step - loss: 0.0529 - acc: 0.9834 - val_loss: 0.0601 - val_acc: 0.9803\n",
      "Epoch 6/20\n",
      "60000/60000 [==============================] - 75s 1ms/step - loss: 0.0479 - acc: 0.9849 - val_loss: 0.0452 - val_acc: 0.9854\n",
      "Epoch 7/20\n",
      "60000/60000 [==============================] - 76s 1ms/step - loss: 0.0421 - acc: 0.9870 - val_loss: 0.0484 - val_acc: 0.9855\n",
      "Epoch 8/20\n",
      "60000/60000 [==============================] - 76s 1ms/step - loss: 0.0396 - acc: 0.9874 - val_loss: 0.0420 - val_acc: 0.9864\n",
      "Epoch 9/20\n",
      "60000/60000 [==============================] - 76s 1ms/step - loss: 0.0355 - acc: 0.9890 - val_loss: 0.0574 - val_acc: 0.9837\n",
      "Epoch 10/20\n",
      "60000/60000 [==============================] - 79s 1ms/step - loss: 0.0339 - acc: 0.9892 - val_loss: 0.0643 - val_acc: 0.9810\n",
      "Epoch 11/20\n",
      "60000/60000 [==============================] - 78s 1ms/step - loss: 0.0316 - acc: 0.9897 - val_loss: 0.0441 - val_acc: 0.9872\n",
      "Epoch 12/20\n",
      "60000/60000 [==============================] - 79s 1ms/step - loss: 0.0292 - acc: 0.9905 - val_loss: 0.0431 - val_acc: 0.9874\n",
      "Epoch 13/20\n",
      "60000/60000 [==============================] - 79s 1ms/step - loss: 0.0285 - acc: 0.9908 - val_loss: 0.0558 - val_acc: 0.9844\n",
      "Epoch 14/20\n",
      "60000/60000 [==============================] - 79s 1ms/step - loss: 0.0272 - acc: 0.9916 - val_loss: 0.0501 - val_acc: 0.9857\n",
      "Epoch 15/20\n",
      "60000/60000 [==============================] - 80s 1ms/step - loss: 0.0247 - acc: 0.9923 - val_loss: 0.0463 - val_acc: 0.9882\n",
      "Epoch 16/20\n",
      "60000/60000 [==============================] - 79s 1ms/step - loss: 0.0230 - acc: 0.9926 - val_loss: 0.0504 - val_acc: 0.9873\n",
      "Epoch 17/20\n",
      "60000/60000 [==============================] - 77s 1ms/step - loss: 0.0239 - acc: 0.9917 - val_loss: 0.0459 - val_acc: 0.9871\n",
      "Epoch 18/20\n",
      "60000/60000 [==============================] - 74s 1ms/step - loss: 0.0232 - acc: 0.9927 - val_loss: 0.0400 - val_acc: 0.9886\n",
      "Epoch 19/20\n",
      "60000/60000 [==============================] - 78s 1ms/step - loss: 0.0212 - acc: 0.9933 - val_loss: 0.0441 - val_acc: 0.9868\n",
      "Epoch 20/20\n",
      "60000/60000 [==============================] - 78s 1ms/step - loss: 0.0199 - acc: 0.9936 - val_loss: 0.0478 - val_acc: 0.9875\n"
     ]
    }
   ],
   "source": [
    "model_1 = model.fit(x_train, y_train, batch_size=16, epochs=20, verbose=1, validation_data=(x_test, y_test))"
   ]
  },
  {
   "cell_type": "code",
   "execution_count": 10,
   "metadata": {},
   "outputs": [
    {
     "name": "stdout",
     "output_type": "stream",
     "text": [
      "10000/10000 [==============================] - 3s 258us/step\n",
      "loss: 0.04782138647302054\n",
      "正確率 0.9875\n"
     ]
    }
   ],
   "source": [
    "score = model.evaluate(x_test, y_test)\n",
    "print('loss:', score[0])\n",
    "print('正確率', score[1])"
   ]
  },
  {
   "cell_type": "code",
   "execution_count": 11,
   "metadata": {},
   "outputs": [
    {
     "data": {
      "image/png": "[encoded data removed]",
      "text/plain": [
       "<Figure size 432x288 with 1 Axes>"
      ]
     },
     "metadata": {
      "needs_background": "light"
     },
     "output_type": "display_data"
    }
   ],
   "source": [
    "plt.plot(model_1.history[\"acc\"])\n",
    "plt.title(\"trainning accuracy\")\n",
    "plt.xlabel(\"epochs\")\n",
    "plt.ylabel(\"accuracy\")\n",
    "\n",
    "plt.show()"
   ]
  },
  {
   "cell_type": "code",
   "execution_count": 12,
   "metadata": {},
   "outputs": [],
   "source": [
    "predict = model.predict_classes(x_test)\n",
    "def test(測試編號):\n",
    "    plt.imshow(x_test[測試編號].reshape(28,28), cmap='Greys')\n",
    "    print(\"神經網路判斷為:\",predict[測試編號])"
   ]
  },
  {
   "cell_type": "code",
   "execution_count": 13,
   "metadata": {},
   "outputs": [
    {
     "data": {
      "application/vnd.jupyter.widget-view+json": {
       "model_id": "e343f1a9f2294877824aee8da7a9e3a6",
       "version_major": 2,
       "version_minor": 0
      },
      "text/plain": [
       "interactive(children=(IntSlider(value=4999, description='測試編號', max=9999), Button(description='Run Interact', …"
      ]
     },
     "metadata": {},
     "output_type": "display_data"
    }
   ],
   "source": [
    "interact_manual(test, 測試編號=(0, 9999));"
   ]
  },
  {
   "cell_type": "code",
   "execution_count": null,
   "metadata": {},
   "outputs": [],
   "source": []
  }
 ],
 "metadata": {
  "kernelspec": {
   "display_name": "Python 3",
   "language": "python",
   "name": "python3"
  },
  "language_info": {
   "codemirror_mode": {
    "name": "ipython",
    "version": 3
   },
   "file_extension": ".py",
   "mimetype": "text/x-python",
   "name": "python",
   "nbconvert_exporter": "python",
   "pygments_lexer": "ipython3",
   "version": "3.6.8"
  }
 },
 "nbformat": 4,
 "nbformat_minor": 2
}
