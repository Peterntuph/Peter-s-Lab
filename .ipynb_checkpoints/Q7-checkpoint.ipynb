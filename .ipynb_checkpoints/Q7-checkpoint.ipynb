{
 "cells": [
  {
   "cell_type": "code",
   "execution_count": 1,
   "metadata": {},
   "outputs": [
    {
     "name": "stdout",
     "output_type": "stream",
     "text": [
      "env: KERAS_BACKEND=tensorflow\n"
     ]
    }
   ],
   "source": [
    "%env KERAS_BACKEND=tensorflow"
   ]
  },
  {
   "cell_type": "code",
   "execution_count": 2,
   "metadata": {},
   "outputs": [],
   "source": [
    "%matplotlib inline\n",
    "\n",
    "import numpy as np\n",
    "import matplotlib.pyplot as plt"
   ]
  },
  {
   "cell_type": "markdown",
   "metadata": {},
   "source": [
    "## 重現課堂model"
   ]
  },
  {
   "cell_type": "code",
   "execution_count": 3,
   "metadata": {},
   "outputs": [
    {
     "name": "stderr",
     "output_type": "stream",
     "text": [
      "C:\\Users\\Peter\\Anaconda3\\lib\\site-packages\\h5py\\__init__.py:36: FutureWarning: Conversion of the second argument of issubdtype from `float` to `np.floating` is deprecated. In future, it will be treated as `np.float64 == np.dtype(float).type`.\n",
      "  from ._conv import register_converters as _register_converters\n",
      "Using TensorFlow backend.\n"
     ]
    }
   ],
   "source": [
    "from keras.datasets import mnist"
   ]
  },
  {
   "cell_type": "code",
   "execution_count": 4,
   "metadata": {},
   "outputs": [],
   "source": [
    "(x_train, y_train), (x_test, y_test) = mnist.load_data()"
   ]
  },
  {
   "cell_type": "code",
   "execution_count": 5,
   "metadata": {},
   "outputs": [],
   "source": [
    "x_train = x_train.reshape(60000, 784)\n",
    "x_test = x_test.reshape(10000, 784)"
   ]
  },
  {
   "cell_type": "code",
   "execution_count": 6,
   "metadata": {},
   "outputs": [],
   "source": [
    "from keras.utils import np_utils\n",
    "y_train = np_utils.to_categorical(y_train, 10)\n",
    "y_test = np_utils.to_categorical(y_test, 10)"
   ]
  },
  {
   "cell_type": "code",
   "execution_count": 7,
   "metadata": {},
   "outputs": [],
   "source": [
    "from keras.models import Sequential\n",
    "from keras.layers import Dense, Activation\n",
    "from keras.optimizers import SGD"
   ]
  },
  {
   "cell_type": "code",
   "execution_count": 8,
   "metadata": {},
   "outputs": [
    {
     "name": "stdout",
     "output_type": "stream",
     "text": [
      "_________________________________________________________________\n",
      "Layer (type)                 Output Shape              Param #   \n",
      "=================================================================\n",
      "dense_1 (Dense)              (None, 4)                 3140      \n",
      "_________________________________________________________________\n",
      "activation_1 (Activation)    (None, 4)                 0         \n",
      "_________________________________________________________________\n",
      "dense_2 (Dense)              (None, 2)                 10        \n",
      "_________________________________________________________________\n",
      "activation_2 (Activation)    (None, 2)                 0         \n",
      "_________________________________________________________________\n",
      "dense_3 (Dense)              (None, 10)                30        \n",
      "_________________________________________________________________\n",
      "activation_3 (Activation)    (None, 10)                0         \n",
      "=================================================================\n",
      "Total params: 3,180\n",
      "Trainable params: 3,180\n",
      "Non-trainable params: 0\n",
      "_________________________________________________________________\n"
     ]
    }
   ],
   "source": [
    "model_class = Sequential()\n",
    "model_class.add(Dense(4, input_dim=784))\n",
    "model_class.add(Activation('sigmoid'))\n",
    "model_class.add(Dense(2))\n",
    "model_class.add(Activation('sigmoid'))\n",
    "model_class.add(Dense(10))\n",
    "model_class.add(Activation('softmax'))\n",
    "model_class.compile(loss='mse', optimizer=SGD(lr=0.087), metrics=['accuracy'])\n",
    "model_class.summary()"
   ]
  },
  {
   "cell_type": "code",
   "execution_count": 9,
   "metadata": {},
   "outputs": [
    {
     "name": "stdout",
     "output_type": "stream",
     "text": [
      "Epoch 1/20\n",
      "60000/60000 [==============================] - 5s 78us/step - loss: 0.0911 - acc: 0.0987\n",
      "Epoch 2/20\n",
      "60000/60000 [==============================] - 3s 56us/step - loss: 0.0901 - acc: 0.1300\n",
      "Epoch 3/20\n",
      "60000/60000 [==============================] - 3s 54us/step - loss: 0.0897 - acc: 0.1378\n",
      "Epoch 4/20\n",
      "60000/60000 [==============================] - 2s 41us/step - loss: 0.0895 - acc: 0.1194\n",
      "Epoch 5/20\n",
      "60000/60000 [==============================] - 2s 38us/step - loss: 0.0894 - acc: 0.1350\n",
      "Epoch 6/20\n",
      "60000/60000 [==============================] - 2s 37us/step - loss: 0.0891 - acc: 0.1767\n",
      "Epoch 7/20\n",
      "60000/60000 [==============================] - 2s 38us/step - loss: 0.0889 - acc: 0.1837\n",
      "Epoch 8/20\n",
      "60000/60000 [==============================] - 2s 38us/step - loss: 0.0887 - acc: 0.1164\n",
      "Epoch 9/20\n",
      "60000/60000 [==============================] - 2s 39us/step - loss: 0.0885 - acc: 0.0957\n",
      "Epoch 10/20\n",
      "60000/60000 [==============================] - 2s 33us/step - loss: 0.0883 - acc: 0.0963\n",
      "Epoch 11/20\n",
      "60000/60000 [==============================] - 2s 33us/step - loss: 0.0881 - acc: 0.0976\n",
      "Epoch 12/20\n",
      "60000/60000 [==============================] - 2s 32us/step - loss: 0.0878 - acc: 0.0987\n",
      "Epoch 13/20\n",
      "60000/60000 [==============================] - 2s 31us/step - loss: 0.0876 - acc: 0.1087\n",
      "Epoch 14/20\n",
      "60000/60000 [==============================] - 2s 28us/step - loss: 0.0874 - acc: 0.1095\n",
      "Epoch 15/20\n",
      "60000/60000 [==============================] - 2s 28us/step - loss: 0.0872 - acc: 0.1170\n",
      "Epoch 16/20\n",
      "60000/60000 [==============================] - 2s 27us/step - loss: 0.0870 - acc: 0.2656\n",
      "Epoch 17/20\n",
      "60000/60000 [==============================] - 2s 27us/step - loss: 0.0868 - acc: 0.2719\n",
      "Epoch 18/20\n",
      "60000/60000 [==============================] - 2s 27us/step - loss: 0.0866 - acc: 0.2729\n",
      "Epoch 19/20\n",
      "60000/60000 [==============================] - 2s 31us/step - loss: 0.0864 - acc: 0.2742\n",
      "Epoch 20/20\n",
      "60000/60000 [==============================] - 2s 27us/step - loss: 0.0862 - acc: 0.2751\n"
     ]
    }
   ],
   "source": [
    "model_class_out = model_class.fit(x_train, y_train, batch_size=100, epochs=20)"
   ]
  },
  {
   "cell_type": "markdown",
   "metadata": {},
   "source": [
    "# 資料正規化"
   ]
  },
  {
   "cell_type": "code",
   "execution_count": 10,
   "metadata": {},
   "outputs": [],
   "source": [
    "x_train_n = (x_train - x_train.min()) / (x_train.max() - x_train.min())\n",
    "x_test_n = (x_test - x_test.min()) / (x_test.max()- x_test.min())"
   ]
  },
  {
   "cell_type": "markdown",
   "metadata": {},
   "source": [
    "# Model 1 (Relu)"
   ]
  },
  {
   "cell_type": "code",
   "execution_count": 11,
   "metadata": {},
   "outputs": [
    {
     "name": "stdout",
     "output_type": "stream",
     "text": [
      "_________________________________________________________________\n",
      "Layer (type)                 Output Shape              Param #   \n",
      "=================================================================\n",
      "dense_4 (Dense)              (None, 4)                 3140      \n",
      "_________________________________________________________________\n",
      "activation_4 (Activation)    (None, 4)                 0         \n",
      "_________________________________________________________________\n",
      "dense_5 (Dense)              (None, 2)                 10        \n",
      "_________________________________________________________________\n",
      "activation_5 (Activation)    (None, 2)                 0         \n",
      "_________________________________________________________________\n",
      "dense_6 (Dense)              (None, 10)                30        \n",
      "_________________________________________________________________\n",
      "activation_6 (Activation)    (None, 10)                0         \n",
      "=================================================================\n",
      "Total params: 3,180\n",
      "Trainable params: 3,180\n",
      "Non-trainable params: 0\n",
      "_________________________________________________________________\n"
     ]
    }
   ],
   "source": [
    "model_1 = Sequential()\n",
    "model_1.add(Dense(4, input_dim=784))\n",
    "model_1.add(Activation('relu'))\n",
    "model_1.add(Dense(2))\n",
    "model_1.add(Activation('relu'))\n",
    "model_1.add(Dense(10))\n",
    "model_1.add(Activation('softmax'))\n",
    "model_1.compile(loss='mse', optimizer=SGD(lr=0.087), metrics=['accuracy'])\n",
    "model_1.summary()"
   ]
  },
  {
   "cell_type": "code",
   "execution_count": 12,
   "metadata": {},
   "outputs": [
    {
     "name": "stdout",
     "output_type": "stream",
     "text": [
      "Train on 60000 samples, validate on 10000 samples\n",
      "Epoch 1/20\n",
      "60000/60000 [==============================] - 5s 78us/step - loss: 0.0900 - acc: 0.1249 - val_loss: 0.0900 - val_acc: 0.1310\n",
      "Epoch 2/20\n",
      "60000/60000 [==============================] - 3s 57us/step - loss: 0.0899 - acc: 0.1359 - val_loss: 0.0899 - val_acc: 0.1373\n",
      "Epoch 3/20\n",
      "60000/60000 [==============================] - 3s 46us/step - loss: 0.0898 - acc: 0.1313 - val_loss: 0.0896 - val_acc: 0.1052\n",
      "Epoch 4/20\n",
      "60000/60000 [==============================] - 3s 46us/step - loss: 0.0893 - acc: 0.0999 - val_loss: 0.0889 - val_acc: 0.0977\n",
      "Epoch 5/20\n",
      "60000/60000 [==============================] - 3s 48us/step - loss: 0.0881 - acc: 0.1023 - val_loss: 0.0871 - val_acc: 0.1039\n",
      "Epoch 6/20\n",
      "60000/60000 [==============================] - 2s 41us/step - loss: 0.0859 - acc: 0.1618 - val_loss: 0.0848 - val_acc: 0.1920\n",
      "Epoch 7/20\n",
      "60000/60000 [==============================] - 4s 63us/step - loss: 0.0837 - acc: 0.1951 - val_loss: 0.0831 - val_acc: 0.1951\n",
      "Epoch 8/20\n",
      "60000/60000 [==============================] - 4s 63us/step - loss: 0.0826 - acc: 0.1999 - val_loss: 0.0824 - val_acc: 0.2016\n",
      "Epoch 9/20\n",
      "60000/60000 [==============================] - 4s 64us/step - loss: 0.0820 - acc: 0.2057 - val_loss: 0.0820 - val_acc: 0.2076\n",
      "Epoch 10/20\n",
      "60000/60000 [==============================] - 4s 64us/step - loss: 0.0816 - acc: 0.2120 - val_loss: 0.0816 - val_acc: 0.2140\n",
      "Epoch 11/20\n",
      "60000/60000 [==============================] - 4s 65us/step - loss: 0.0813 - acc: 0.2190 - val_loss: 0.0813 - val_acc: 0.2210\n",
      "Epoch 12/20\n",
      "60000/60000 [==============================] - 4s 68us/step - loss: 0.0810 - acc: 0.2253 - val_loss: 0.0810 - val_acc: 0.2260\n",
      "Epoch 13/20\n",
      "60000/60000 [==============================] - 4s 66us/step - loss: 0.0807 - acc: 0.2312 - val_loss: 0.0808 - val_acc: 0.2303\n",
      "Epoch 14/20\n",
      "60000/60000 [==============================] - 4s 66us/step - loss: 0.0805 - acc: 0.2360 - val_loss: 0.0805 - val_acc: 0.2371\n",
      "Epoch 15/20\n",
      "60000/60000 [==============================] - 4s 67us/step - loss: 0.0802 - acc: 0.2416 - val_loss: 0.0802 - val_acc: 0.2432\n",
      "Epoch 16/20\n",
      "60000/60000 [==============================] - 4s 62us/step - loss: 0.0800 - acc: 0.2477 - val_loss: 0.0800 - val_acc: 0.2504\n",
      "Epoch 17/20\n",
      "60000/60000 [==============================] - 3s 43us/step - loss: 0.0797 - acc: 0.2540 - val_loss: 0.0797 - val_acc: 0.2548\n",
      "Epoch 18/20\n",
      "60000/60000 [==============================] - 4s 68us/step - loss: 0.0795 - acc: 0.2619 - val_loss: 0.0795 - val_acc: 0.2619\n",
      "Epoch 19/20\n",
      "60000/60000 [==============================] - 4s 67us/step - loss: 0.0793 - acc: 0.2713 - val_loss: 0.0793 - val_acc: 0.2775\n",
      "Epoch 20/20\n",
      "60000/60000 [==============================] - 3s 43us/step - loss: 0.0790 - acc: 0.2777 - val_loss: 0.0791 - val_acc: 0.2802\n"
     ]
    }
   ],
   "source": [
    "model_1_out = model_1.fit(x_train_n, y_train, batch_size=100, epochs=20,verbose =1,validation_data = (x_test_n,y_test))"
   ]
  },
  {
   "cell_type": "markdown",
   "metadata": {},
   "source": [
    "# Model 2 (Tanh)"
   ]
  },
  {
   "cell_type": "code",
   "execution_count": 13,
   "metadata": {},
   "outputs": [
    {
     "name": "stdout",
     "output_type": "stream",
     "text": [
      "_________________________________________________________________\n",
      "Layer (type)                 Output Shape              Param #   \n",
      "=================================================================\n",
      "dense_7 (Dense)              (None, 4)                 3140      \n",
      "_________________________________________________________________\n",
      "activation_7 (Activation)    (None, 4)                 0         \n",
      "_________________________________________________________________\n",
      "dense_8 (Dense)              (None, 2)                 10        \n",
      "_________________________________________________________________\n",
      "activation_8 (Activation)    (None, 2)                 0         \n",
      "_________________________________________________________________\n",
      "dense_9 (Dense)              (None, 10)                30        \n",
      "_________________________________________________________________\n",
      "activation_9 (Activation)    (None, 10)                0         \n",
      "=================================================================\n",
      "Total params: 3,180\n",
      "Trainable params: 3,180\n",
      "Non-trainable params: 0\n",
      "_________________________________________________________________\n"
     ]
    }
   ],
   "source": [
    "model_2 = Sequential()\n",
    "model_2.add(Dense(4, input_dim=784))\n",
    "model_2.add(Activation('tanh'))\n",
    "model_2.add(Dense(2))\n",
    "model_2.add(Activation('tanh'))\n",
    "model_2.add(Dense(10))\n",
    "model_2.add(Activation('softmax'))\n",
    "model_2.compile(loss='mse', optimizer=SGD(lr=0.087), metrics=['accuracy'])\n",
    "model_2.summary()"
   ]
  },
  {
   "cell_type": "code",
   "execution_count": 14,
   "metadata": {},
   "outputs": [
    {
     "name": "stdout",
     "output_type": "stream",
     "text": [
      "Train on 60000 samples, validate on 10000 samples\n",
      "Epoch 1/20\n",
      "60000/60000 [==============================] - 5s 79us/step - loss: 0.0889 - acc: 0.1729 - val_loss: 0.0870 - val_acc: 0.2103\n",
      "Epoch 2/20\n",
      "60000/60000 [==============================] - 4s 60us/step - loss: 0.0863 - acc: 0.2151 - val_loss: 0.0855 - val_acc: 0.2264\n",
      "Epoch 3/20\n",
      "60000/60000 [==============================] - 3s 58us/step - loss: 0.0851 - acc: 0.2304 - val_loss: 0.0844 - val_acc: 0.2386\n",
      "Epoch 4/20\n",
      "60000/60000 [==============================] - 3s 58us/step - loss: 0.0840 - acc: 0.2450 - val_loss: 0.0834 - val_acc: 0.2517\n",
      "Epoch 5/20\n",
      "60000/60000 [==============================] - 4s 59us/step - loss: 0.0830 - acc: 0.2780 - val_loss: 0.0825 - val_acc: 0.3012\n",
      "Epoch 6/20\n",
      "60000/60000 [==============================] - 4s 59us/step - loss: 0.0820 - acc: 0.3131 - val_loss: 0.0814 - val_acc: 0.3149\n",
      "Epoch 7/20\n",
      "60000/60000 [==============================] - 4s 59us/step - loss: 0.0809 - acc: 0.2983 - val_loss: 0.0803 - val_acc: 0.2951\n",
      "Epoch 8/20\n",
      "60000/60000 [==============================] - 4s 60us/step - loss: 0.0797 - acc: 0.3001 - val_loss: 0.0791 - val_acc: 0.3005\n",
      "Epoch 9/20\n",
      "60000/60000 [==============================] - 4s 60us/step - loss: 0.0785 - acc: 0.3081 - val_loss: 0.0779 - val_acc: 0.3084\n",
      "Epoch 10/20\n",
      "60000/60000 [==============================] - 4s 61us/step - loss: 0.0772 - acc: 0.3201 - val_loss: 0.0768 - val_acc: 0.3254\n",
      "Epoch 11/20\n",
      "60000/60000 [==============================] - 4s 61us/step - loss: 0.0760 - acc: 0.3388 - val_loss: 0.0756 - val_acc: 0.3464\n",
      "Epoch 12/20\n",
      "60000/60000 [==============================] - 4s 61us/step - loss: 0.0749 - acc: 0.3559 - val_loss: 0.0744 - val_acc: 0.3590\n",
      "Epoch 13/20\n",
      "60000/60000 [==============================] - 4s 61us/step - loss: 0.0737 - acc: 0.3685 - val_loss: 0.0732 - val_acc: 0.3715\n",
      "Epoch 14/20\n",
      "60000/60000 [==============================] - 4s 61us/step - loss: 0.0725 - acc: 0.3775 - val_loss: 0.0721 - val_acc: 0.3781\n",
      "Epoch 15/20\n",
      "60000/60000 [==============================] - 4s 61us/step - loss: 0.0714 - acc: 0.3842 - val_loss: 0.0710 - val_acc: 0.3841\n",
      "Epoch 16/20\n",
      "60000/60000 [==============================] - 4s 64us/step - loss: 0.0703 - acc: 0.3876 - val_loss: 0.0699 - val_acc: 0.3900\n",
      "Epoch 17/20\n",
      "60000/60000 [==============================] - 4s 62us/step - loss: 0.0693 - acc: 0.3904 - val_loss: 0.0689 - val_acc: 0.3892\n",
      "Epoch 18/20\n",
      "60000/60000 [==============================] - 4s 62us/step - loss: 0.0683 - acc: 0.3967 - val_loss: 0.0680 - val_acc: 0.4087\n",
      "Epoch 19/20\n",
      "60000/60000 [==============================] - 4s 62us/step - loss: 0.0674 - acc: 0.4061 - val_loss: 0.0671 - val_acc: 0.4007\n",
      "Epoch 20/20\n",
      "60000/60000 [==============================] - 4s 64us/step - loss: 0.0667 - acc: 0.4042 - val_loss: 0.0664 - val_acc: 0.3981\n"
     ]
    }
   ],
   "source": [
    "model_2_out = model_2.fit(x_train_n, y_train, batch_size=100, epochs=20,verbose =1,validation_data = (x_test_n,y_test))"
   ]
  },
  {
   "cell_type": "markdown",
   "metadata": {},
   "source": [
    "# 試看看結果"
   ]
  },
  {
   "cell_type": "code",
   "execution_count": 16,
   "metadata": {},
   "outputs": [
    {
     "name": "stdout",
     "output_type": "stream",
     "text": [
      "10000/10000 [==============================] - 1s 67us/step\n",
      "model_class:\n",
      "loss: 0.08602606948614121\n",
      "正確率: 0.2758\n",
      "10000/10000 [==============================] - 1s 57us/step\n",
      "model_1:\n",
      "loss: 0.10172926055192948\n",
      "正確率: 0.1967\n",
      "10000/10000 [==============================] - 1s 60us/step\n",
      "model_2:\n",
      "loss: 0.06895762934684753\n",
      "正確率: 0.3888\n"
     ]
    }
   ],
   "source": [
    "from ipywidgets import interact_manual\n",
    "\n",
    "predict_class = model_class.predict_classes(x_test)\n",
    "predict_1 = model_1.predict_classes(x_test)\n",
    "\n",
    "score_class = model_class.evaluate(x_test, y_test)\n",
    "print('model_class:')\n",
    "print('loss:', score_class[0])\n",
    "print('正確率:', score_class[1])\n",
    "score_1 = model_1.evaluate(x_test, y_test)\n",
    "print('model_1:')\n",
    "print('loss:', score_1[0])\n",
    "print('正確率:', score_1[1])\n",
    "score_2 = model_2.evaluate(x_test, y_test)\n",
    "print('model_2:')\n",
    "print('loss:', score_2[0])\n",
    "print('正確率:', score_2[1])"
   ]
  },
  {
   "cell_type": "code",
   "execution_count": 17,
   "metadata": {},
   "outputs": [
    {
     "data": {
      "image/png": "[encoded data removed]",
      "text/plain": [
       "<matplotlib.figure.Figure at 0x28f28406d8>"
      ]
     },
     "metadata": {},
     "output_type": "display_data"
    }
   ],
   "source": [
    "plt.plot(model_class_out.history[\"acc\"])\n",
    "plt.plot(model_1_out.history[\"acc\"])\n",
    "plt.plot(model_2_out.history[\"acc\"])\n",
    "\n",
    "plt.title(\"model training accuracy\")\n",
    "plt.ylabel(\"accuracy\")\n",
    "plt.xlabel(\"epoch\")\n",
    "plt.legend([\"Model_class\",\"Model_relu\",\"Model_tanh\"],loc=\"best\")\n",
    "plt.show()"
   ]
  },
  {
   "cell_type": "markdown",
   "metadata": {},
   "source": [
    "# Epochs 增加至50"
   ]
  },
  {
   "cell_type": "code",
   "execution_count": 18,
   "metadata": {},
   "outputs": [
    {
     "name": "stdout",
     "output_type": "stream",
     "text": [
      "Epoch 1/50\n",
      "60000/60000 [==============================] - 3s 52us/step - loss: 0.0859 - acc: 0.2755\n",
      "Epoch 2/50\n",
      "60000/60000 [==============================] - 3s 52us/step - loss: 0.0857 - acc: 0.2762\n",
      "Epoch 3/50\n",
      "60000/60000 [==============================] - 3s 52us/step - loss: 0.0854 - acc: 0.2763\n",
      "Epoch 4/50\n",
      "60000/60000 [==============================] - 3s 52us/step - loss: 0.0852 - acc: 0.2767\n",
      "Epoch 5/50\n",
      "60000/60000 [==============================] - 3s 54us/step - loss: 0.0849 - acc: 0.2775\n",
      "Epoch 6/50\n",
      "60000/60000 [==============================] - 3s 52us/step - loss: 0.0846 - acc: 0.2773\n",
      "Epoch 7/50\n",
      "60000/60000 [==============================] - 3s 54us/step - loss: 0.0844 - acc: 0.2786\n",
      "Epoch 8/50\n",
      "60000/60000 [==============================] - 3s 53us/step - loss: 0.0841 - acc: 0.2786\n",
      "Epoch 9/50\n",
      "60000/60000 [==============================] - 3s 55us/step - loss: 0.0838 - acc: 0.2796\n",
      "Epoch 10/50\n",
      "60000/60000 [==============================] - 3s 53us/step - loss: 0.0835 - acc: 0.2785\n",
      "Epoch 11/50\n",
      "60000/60000 [==============================] - 3s 54us/step - loss: 0.0832 - acc: 0.2796\n",
      "Epoch 12/50\n",
      "60000/60000 [==============================] - 3s 54us/step - loss: 0.0828 - acc: 0.2796\n",
      "Epoch 13/50\n",
      "60000/60000 [==============================] - 3s 55us/step - loss: 0.0825 - acc: 0.2784\n",
      "Epoch 14/50\n",
      "60000/60000 [==============================] - 3s 56us/step - loss: 0.0822 - acc: 0.2795\n",
      "Epoch 15/50\n",
      "60000/60000 [==============================] - 3s 55us/step - loss: 0.0818 - acc: 0.2788\n",
      "Epoch 16/50\n",
      "60000/60000 [==============================] - 3s 58us/step - loss: 0.0815 - acc: 0.2794\n",
      "Epoch 17/50\n",
      "60000/60000 [==============================] - 3s 47us/step - loss: 0.0811 - acc: 0.2804\n",
      "Epoch 18/50\n",
      "60000/60000 [==============================] - 3s 47us/step - loss: 0.0808 - acc: 0.2805\n",
      "Epoch 19/50\n",
      "60000/60000 [==============================] - 3s 45us/step - loss: 0.0805 - acc: 0.2816\n",
      "Epoch 20/50\n",
      "60000/60000 [==============================] - 2s 38us/step - loss: 0.0802 - acc: 0.2802\n",
      "Epoch 21/50\n",
      "60000/60000 [==============================] - 2s 38us/step - loss: 0.0798 - acc: 0.2813\n",
      "Epoch 22/50\n",
      "60000/60000 [==============================] - 2s 37us/step - loss: 0.0795 - acc: 0.2806\n",
      "Epoch 23/50\n",
      "60000/60000 [==============================] - 2s 35us/step - loss: 0.0792 - acc: 0.2800\n",
      "Epoch 24/50\n",
      "60000/60000 [==============================] - 2s 36us/step - loss: 0.0789 - acc: 0.2814\n",
      "Epoch 25/50\n",
      "60000/60000 [==============================] - 2s 39us/step - loss: 0.0786 - acc: 0.2807\n",
      "Epoch 26/50\n",
      "60000/60000 [==============================] - 2s 38us/step - loss: 0.0783 - acc: 0.2816\n",
      "Epoch 27/50\n",
      "60000/60000 [==============================] - 2s 36us/step - loss: 0.0780 - acc: 0.2827\n",
      "Epoch 28/50\n",
      "60000/60000 [==============================] - 2s 30us/step - loss: 0.0777 - acc: 0.3951\n",
      "Epoch 29/50\n",
      "60000/60000 [==============================] - 2s 30us/step - loss: 0.0774 - acc: 0.4583\n",
      "Epoch 30/50\n",
      "60000/60000 [==============================] - 2s 29us/step - loss: 0.0771 - acc: 0.4598\n",
      "Epoch 31/50\n",
      "60000/60000 [==============================] - 2s 30us/step - loss: 0.0768 - acc: 0.4590\n",
      "Epoch 32/50\n",
      "60000/60000 [==============================] - 2s 29us/step - loss: 0.0765 - acc: 0.4609\n",
      "Epoch 33/50\n",
      "60000/60000 [==============================] - 2s 29us/step - loss: 0.0762 - acc: 0.4632\n",
      "Epoch 34/50\n",
      "60000/60000 [==============================] - 2s 27us/step - loss: 0.0759 - acc: 0.4621: 1s - l\n",
      "Epoch 35/50\n",
      "60000/60000 [==============================] - 2s 27us/step - loss: 0.0757 - acc: 0.4636\n",
      "Epoch 36/50\n",
      "60000/60000 [==============================] - 2s 27us/step - loss: 0.0754 - acc: 0.4620\n",
      "Epoch 37/50\n",
      "60000/60000 [==============================] - 2s 28us/step - loss: 0.0752 - acc: 0.4623\n",
      "Epoch 38/50\n",
      "60000/60000 [==============================] - 2s 27us/step - loss: 0.0749 - acc: 0.4635\n",
      "Epoch 39/50\n",
      "60000/60000 [==============================] - 2s 27us/step - loss: 0.0747 - acc: 0.4643\n",
      "Epoch 40/50\n",
      "60000/60000 [==============================] - 2s 27us/step - loss: 0.0744 - acc: 0.4652\n",
      "Epoch 41/50\n",
      "60000/60000 [==============================] - 2s 28us/step - loss: 0.0741 - acc: 0.4674: 1s - loss: \n",
      "Epoch 42/50\n",
      "60000/60000 [==============================] - 2s 27us/step - loss: 0.0739 - acc: 0.4667\n",
      "Epoch 43/50\n",
      "60000/60000 [==============================] - 2s 28us/step - loss: 0.0737 - acc: 0.4639\n",
      "Epoch 44/50\n",
      "60000/60000 [==============================] - 2s 27us/step - loss: 0.0734 - acc: 0.4660\n",
      "Epoch 45/50\n",
      "60000/60000 [==============================] - 2s 28us/step - loss: 0.0732 - acc: 0.4645\n",
      "Epoch 46/50\n",
      "60000/60000 [==============================] - 2s 28us/step - loss: 0.0730 - acc: 0.4650\n",
      "Epoch 47/50\n",
      "60000/60000 [==============================] - 2s 28us/step - loss: 0.0727 - acc: 0.4678\n",
      "Epoch 48/50\n",
      "60000/60000 [==============================] - 2s 28us/step - loss: 0.0725 - acc: 0.4707\n",
      "Epoch 49/50\n",
      "60000/60000 [==============================] - 2s 27us/step - loss: 0.0723 - acc: 0.4753\n",
      "Epoch 50/50\n",
      "60000/60000 [==============================] - 2s 27us/step - loss: 0.0720 - acc: 0.4762\n",
      "Train on 60000 samples, validate on 10000 samples\n",
      "Epoch 1/50\n",
      "60000/60000 [==============================] - 2s 34us/step - loss: 0.0788 - acc: 0.2811 - val_loss: 0.0789 - val_acc: 0.2820\n",
      "Epoch 2/50\n",
      "60000/60000 [==============================] - 2s 33us/step - loss: 0.0786 - acc: 0.2844 - val_loss: 0.0787 - val_acc: 0.2857\n",
      "Epoch 3/50\n",
      "60000/60000 [==============================] - 2s 33us/step - loss: 0.0784 - acc: 0.2862 - val_loss: 0.0785 - val_acc: 0.2875\n",
      "Epoch 4/50\n",
      "60000/60000 [==============================] - 2s 27us/step - loss: 0.0783 - acc: 0.2881 - val_loss: 0.0783 - val_acc: 0.2887\n",
      "Epoch 5/50\n",
      "60000/60000 [==============================] - 4s 58us/step - loss: 0.0781 - acc: 0.2894 - val_loss: 0.0781 - val_acc: 0.2898\n",
      "Epoch 6/50\n",
      "60000/60000 [==============================] - 4s 66us/step - loss: 0.0779 - acc: 0.2904 - val_loss: 0.0780 - val_acc: 0.2903\n",
      "Epoch 7/50\n",
      "60000/60000 [==============================] - 4s 65us/step - loss: 0.0778 - acc: 0.2913 - val_loss: 0.0778 - val_acc: 0.2906\n",
      "Epoch 8/50\n",
      "60000/60000 [==============================] - 3s 58us/step - loss: 0.0776 - acc: 0.2920 - val_loss: 0.0777 - val_acc: 0.2912\n",
      "Epoch 9/50\n",
      "60000/60000 [==============================] - 3s 56us/step - loss: 0.0775 - acc: 0.2923 - val_loss: 0.0776 - val_acc: 0.2918\n",
      "Epoch 10/50\n",
      "60000/60000 [==============================] - 3s 56us/step - loss: 0.0774 - acc: 0.2926 - val_loss: 0.0774 - val_acc: 0.2922\n",
      "Epoch 11/50\n",
      "60000/60000 [==============================] - 3s 57us/step - loss: 0.0772 - acc: 0.2933 - val_loss: 0.0773 - val_acc: 0.2928\n",
      "Epoch 12/50\n",
      "60000/60000 [==============================] - 3s 56us/step - loss: 0.0771 - acc: 0.2940 - val_loss: 0.0772 - val_acc: 0.2931\n",
      "Epoch 13/50\n",
      "60000/60000 [==============================] - 3s 58us/step - loss: 0.0770 - acc: 0.2951 - val_loss: 0.0771 - val_acc: 0.2973\n",
      "Epoch 14/50\n",
      "60000/60000 [==============================] - 3s 56us/step - loss: 0.0769 - acc: 0.3009 - val_loss: 0.0770 - val_acc: 0.3004\n",
      "Epoch 15/50\n",
      "60000/60000 [==============================] - 3s 56us/step - loss: 0.0768 - acc: 0.3030 - val_loss: 0.0769 - val_acc: 0.3016\n",
      "Epoch 16/50\n",
      "60000/60000 [==============================] - 3s 56us/step - loss: 0.0767 - acc: 0.3048 - val_loss: 0.0768 - val_acc: 0.3070\n",
      "Epoch 17/50\n",
      "60000/60000 [==============================] - 3s 56us/step - loss: 0.0766 - acc: 0.3101 - val_loss: 0.0767 - val_acc: 0.3068\n",
      "Epoch 18/50\n",
      "60000/60000 [==============================] - 3s 57us/step - loss: 0.0765 - acc: 0.3116 - val_loss: 0.0766 - val_acc: 0.3114\n",
      "Epoch 19/50\n",
      "60000/60000 [==============================] - 4s 61us/step - loss: 0.0764 - acc: 0.3138 - val_loss: 0.0765 - val_acc: 0.3150\n",
      "Epoch 20/50\n",
      "60000/60000 [==============================] - 3s 42us/step - loss: 0.0763 - acc: 0.3173 - val_loss: 0.0764 - val_acc: 0.3169\n",
      "Epoch 21/50\n",
      "60000/60000 [==============================] - 2s 33us/step - loss: 0.0762 - acc: 0.3197 - val_loss: 0.0763 - val_acc: 0.3177\n",
      "Epoch 22/50\n",
      "60000/60000 [==============================] - 2s 29us/step - loss: 0.0761 - acc: 0.3207 - val_loss: 0.0762 - val_acc: 0.3195\n",
      "Epoch 23/50\n"
     ]
    },
    {
     "name": "stdout",
     "output_type": "stream",
     "text": [
      "60000/60000 [==============================] - 2s 26us/step - loss: 0.0760 - acc: 0.3233 - val_loss: 0.0761 - val_acc: 0.3222\n",
      "Epoch 24/50\n",
      "60000/60000 [==============================] - 3s 58us/step - loss: 0.0759 - acc: 0.3250 - val_loss: 0.0761 - val_acc: 0.3238\n",
      "Epoch 25/50\n",
      "60000/60000 [==============================] - 3s 56us/step - loss: 0.0759 - acc: 0.3274 - val_loss: 0.0760 - val_acc: 0.3264\n",
      "Epoch 26/50\n",
      "60000/60000 [==============================] - 3s 57us/step - loss: 0.0758 - acc: 0.3287 - val_loss: 0.0759 - val_acc: 0.3277\n",
      "Epoch 27/50\n",
      "60000/60000 [==============================] - 3s 57us/step - loss: 0.0757 - acc: 0.3305 - val_loss: 0.0758 - val_acc: 0.3279\n",
      "Epoch 28/50\n",
      "60000/60000 [==============================] - 3s 58us/step - loss: 0.0756 - acc: 0.3318 - val_loss: 0.0757 - val_acc: 0.3290\n",
      "Epoch 29/50\n",
      "60000/60000 [==============================] - 3s 57us/step - loss: 0.0755 - acc: 0.3334 - val_loss: 0.0757 - val_acc: 0.3314\n",
      "Epoch 30/50\n",
      "60000/60000 [==============================] - 4s 61us/step - loss: 0.0754 - acc: 0.3347 - val_loss: 0.0756 - val_acc: 0.3324\n",
      "Epoch 31/50\n",
      "60000/60000 [==============================] - 3s 58us/step - loss: 0.0754 - acc: 0.3353 - val_loss: 0.0755 - val_acc: 0.3335\n",
      "Epoch 32/50\n",
      "60000/60000 [==============================] - 3s 58us/step - loss: 0.0753 - acc: 0.3368 - val_loss: 0.0754 - val_acc: 0.3354\n",
      "Epoch 33/50\n",
      "60000/60000 [==============================] - 3s 58us/step - loss: 0.0752 - acc: 0.3376 - val_loss: 0.0754 - val_acc: 0.3371\n",
      "Epoch 34/50\n",
      "60000/60000 [==============================] - 4s 68us/step - loss: 0.0751 - acc: 0.3387 - val_loss: 0.0753 - val_acc: 0.3377\n",
      "Epoch 35/50\n",
      "60000/60000 [==============================] - 4s 70us/step - loss: 0.0751 - acc: 0.3400 - val_loss: 0.0752 - val_acc: 0.3379\n",
      "Epoch 36/50\n",
      "60000/60000 [==============================] - 4s 72us/step - loss: 0.0750 - acc: 0.3400 - val_loss: 0.0751 - val_acc: 0.3401\n",
      "Epoch 37/50\n",
      "60000/60000 [==============================] - 3s 52us/step - loss: 0.0749 - acc: 0.3414 - val_loss: 0.0751 - val_acc: 0.3404\n",
      "Epoch 38/50\n",
      "60000/60000 [==============================] - 3s 46us/step - loss: 0.0749 - acc: 0.3421 - val_loss: 0.0750 - val_acc: 0.3400\n",
      "Epoch 39/50\n",
      "60000/60000 [==============================] - 3s 45us/step - loss: 0.0748 - acc: 0.3425 - val_loss: 0.0749 - val_acc: 0.3416\n",
      "Epoch 40/50\n",
      "60000/60000 [==============================] - 4s 65us/step - loss: 0.0747 - acc: 0.3433 - val_loss: 0.0749 - val_acc: 0.3422\n",
      "Epoch 41/50\n",
      "60000/60000 [==============================] - 4s 65us/step - loss: 0.0747 - acc: 0.3441 - val_loss: 0.0748 - val_acc: 0.3424\n",
      "Epoch 42/50\n",
      "60000/60000 [==============================] - 4s 65us/step - loss: 0.0746 - acc: 0.3443 - val_loss: 0.0747 - val_acc: 0.3432\n",
      "Epoch 43/50\n",
      "60000/60000 [==============================] - 4s 65us/step - loss: 0.0745 - acc: 0.3449 - val_loss: 0.0747 - val_acc: 0.3434\n",
      "Epoch 44/50\n",
      "60000/60000 [==============================] - 4s 64us/step - loss: 0.0745 - acc: 0.3449 - val_loss: 0.0746 - val_acc: 0.3443\n",
      "Epoch 45/50\n",
      "60000/60000 [==============================] - 4s 64us/step - loss: 0.0744 - acc: 0.3458 - val_loss: 0.0746 - val_acc: 0.3453\n",
      "Epoch 46/50\n",
      "60000/60000 [==============================] - 4s 64us/step - loss: 0.0743 - acc: 0.3466 - val_loss: 0.0745 - val_acc: 0.3444\n",
      "Epoch 47/50\n",
      "60000/60000 [==============================] - 4s 64us/step - loss: 0.0743 - acc: 0.3464 - val_loss: 0.0744 - val_acc: 0.3465\n",
      "Epoch 48/50\n",
      "60000/60000 [==============================] - 4s 63us/step - loss: 0.0742 - acc: 0.3471 - val_loss: 0.0744 - val_acc: 0.3459\n",
      "Epoch 49/50\n",
      "60000/60000 [==============================] - 4s 65us/step - loss: 0.0742 - acc: 0.3474 - val_loss: 0.0743 - val_acc: 0.3459\n",
      "Epoch 50/50\n",
      "60000/60000 [==============================] - 4s 63us/step - loss: 0.0741 - acc: 0.3475 - val_loss: 0.0743 - val_acc: 0.3473\n",
      "Train on 60000 samples, validate on 10000 samples\n",
      "Epoch 1/50\n",
      "60000/60000 [==============================] - 4s 63us/step - loss: 0.0660 - acc: 0.4026 - val_loss: 0.0658 - val_acc: 0.3977\n",
      "Epoch 2/50\n",
      "60000/60000 [==============================] - 4s 63us/step - loss: 0.0654 - acc: 0.4027 - val_loss: 0.0652 - val_acc: 0.3976\n",
      "Epoch 3/50\n",
      "60000/60000 [==============================] - 4s 63us/step - loss: 0.0649 - acc: 0.4028 - val_loss: 0.0647 - val_acc: 0.3979\n",
      "Epoch 4/50\n",
      "60000/60000 [==============================] - 4s 61us/step - loss: 0.0644 - acc: 0.4035 - val_loss: 0.0643 - val_acc: 0.3992\n",
      "Epoch 5/50\n",
      "60000/60000 [==============================] - 4s 62us/step - loss: 0.0640 - acc: 0.4069 - val_loss: 0.0639 - val_acc: 0.4047\n",
      "Epoch 6/50\n",
      "60000/60000 [==============================] - 4s 61us/step - loss: 0.0636 - acc: 0.4169 - val_loss: 0.0635 - val_acc: 0.4161\n",
      "Epoch 7/50\n",
      "60000/60000 [==============================] - 4s 61us/step - loss: 0.0632 - acc: 0.4260 - val_loss: 0.0631 - val_acc: 0.4231\n",
      "Epoch 8/50\n",
      "60000/60000 [==============================] - 4s 61us/step - loss: 0.0629 - acc: 0.4351 - val_loss: 0.0628 - val_acc: 0.4302\n",
      "Epoch 9/50\n",
      "60000/60000 [==============================] - 4s 61us/step - loss: 0.0625 - acc: 0.4413 - val_loss: 0.0625 - val_acc: 0.4369\n",
      "Epoch 10/50\n",
      "60000/60000 [==============================] - 4s 61us/step - loss: 0.0622 - acc: 0.4485 - val_loss: 0.0622 - val_acc: 0.4438\n",
      "Epoch 11/50\n",
      "60000/60000 [==============================] - 4s 62us/step - loss: 0.0619 - acc: 0.4541 - val_loss: 0.0619 - val_acc: 0.4480\n",
      "Epoch 12/50\n",
      "60000/60000 [==============================] - 4s 61us/step - loss: 0.0616 - acc: 0.4602 - val_loss: 0.0616 - val_acc: 0.4560\n",
      "Epoch 13/50\n",
      "60000/60000 [==============================] - 4s 62us/step - loss: 0.0613 - acc: 0.4660 - val_loss: 0.0613 - val_acc: 0.4633\n",
      "Epoch 14/50\n",
      "60000/60000 [==============================] - 4s 60us/step - loss: 0.0610 - acc: 0.4716 - val_loss: 0.0610 - val_acc: 0.4673\n",
      "Epoch 15/50\n",
      "60000/60000 [==============================] - 4s 61us/step - loss: 0.0608 - acc: 0.4768 - val_loss: 0.0607 - val_acc: 0.4722\n",
      "Epoch 16/50\n",
      "60000/60000 [==============================] - 4s 64us/step - loss: 0.0605 - acc: 0.4817 - val_loss: 0.0605 - val_acc: 0.4767\n",
      "Epoch 17/50\n",
      "60000/60000 [==============================] - 3s 48us/step - loss: 0.0602 - acc: 0.4861 - val_loss: 0.0602 - val_acc: 0.4816\n",
      "Epoch 18/50\n",
      "60000/60000 [==============================] - 2s 40us/step - loss: 0.0600 - acc: 0.4899 - val_loss: 0.0599 - val_acc: 0.4851\n",
      "Epoch 19/50\n",
      "60000/60000 [==============================] - 4s 60us/step - loss: 0.0597 - acc: 0.4938 - val_loss: 0.0597 - val_acc: 0.4891\n",
      "Epoch 20/50\n",
      "60000/60000 [==============================] - 4s 60us/step - loss: 0.0595 - acc: 0.4964 - val_loss: 0.0594 - val_acc: 0.4921\n",
      "Epoch 21/50\n",
      "60000/60000 [==============================] - 4s 59us/step - loss: 0.0592 - acc: 0.4997 - val_loss: 0.0591 - val_acc: 0.4986\n",
      "Epoch 22/50\n",
      "60000/60000 [==============================] - 4s 59us/step - loss: 0.0589 - acc: 0.5026 - val_loss: 0.0589 - val_acc: 0.5020\n",
      "Epoch 23/50\n",
      "60000/60000 [==============================] - 4s 61us/step - loss: 0.0587 - acc: 0.5060 - val_loss: 0.0586 - val_acc: 0.5062\n",
      "Epoch 24/50\n",
      "60000/60000 [==============================] - 4s 60us/step - loss: 0.0584 - acc: 0.5087 - val_loss: 0.0583 - val_acc: 0.5095\n",
      "Epoch 25/50\n",
      "60000/60000 [==============================] - 4s 61us/step - loss: 0.0581 - acc: 0.5114 - val_loss: 0.0581 - val_acc: 0.5133\n",
      "Epoch 26/50\n",
      "60000/60000 [==============================] - 4s 61us/step - loss: 0.0579 - acc: 0.5149 - val_loss: 0.0578 - val_acc: 0.5175\n",
      "Epoch 27/50\n",
      "60000/60000 [==============================] - 4s 60us/step - loss: 0.0576 - acc: 0.5177 - val_loss: 0.0575 - val_acc: 0.5202\n",
      "Epoch 28/50\n",
      "60000/60000 [==============================] - 3s 42us/step - loss: 0.0573 - acc: 0.5210 - val_loss: 0.0573 - val_acc: 0.5257\n",
      "Epoch 29/50\n",
      "60000/60000 [==============================] - 2s 37us/step - loss: 0.0571 - acc: 0.5241 - val_loss: 0.0570 - val_acc: 0.5291\n",
      "Epoch 30/50\n",
      "60000/60000 [==============================] - ETA: 0s - loss: 0.0568 - acc: 0.527 - 2s 33us/step - loss: 0.0568 - acc: 0.5276 - val_loss: 0.0567 - val_acc: 0.5308\n",
      "Epoch 31/50\n",
      "60000/60000 [==============================] - 2s 34us/step - loss: 0.0565 - acc: 0.5314 - val_loss: 0.0565 - val_acc: 0.5356\n"
     ]
    },
    {
     "name": "stdout",
     "output_type": "stream",
     "text": [
      "Epoch 32/50\n",
      "60000/60000 [==============================] - 2s 31us/step - loss: 0.0562 - acc: 0.5351 - val_loss: 0.0562 - val_acc: 0.5393\n",
      "Epoch 33/50\n",
      "60000/60000 [==============================] - 3s 43us/step - loss: 0.0560 - acc: 0.5393 - val_loss: 0.0559 - val_acc: 0.5459\n",
      "Epoch 34/50\n",
      "60000/60000 [==============================] - 3s 44us/step - loss: 0.0557 - acc: 0.5449 - val_loss: 0.0556 - val_acc: 0.5505\n",
      "Epoch 35/50\n",
      "60000/60000 [==============================] - 4s 67us/step - loss: 0.0554 - acc: 0.5503 - val_loss: 0.0553 - val_acc: 0.5540\n",
      "Epoch 36/50\n",
      "60000/60000 [==============================] - 4s 65us/step - loss: 0.0551 - acc: 0.5533 - val_loss: 0.0551 - val_acc: 0.5556\n",
      "Epoch 37/50\n",
      "60000/60000 [==============================] - 4s 66us/step - loss: 0.0549 - acc: 0.5553 - val_loss: 0.0548 - val_acc: 0.5563\n",
      "Epoch 38/50\n",
      "60000/60000 [==============================] - 4s 67us/step - loss: 0.0546 - acc: 0.5564 - val_loss: 0.0545 - val_acc: 0.5577\n",
      "Epoch 39/50\n",
      "60000/60000 [==============================] - 4s 66us/step - loss: 0.0544 - acc: 0.5574 - val_loss: 0.0543 - val_acc: 0.5574\n",
      "Epoch 40/50\n",
      "60000/60000 [==============================] - 4s 67us/step - loss: 0.0541 - acc: 0.5582 - val_loss: 0.0541 - val_acc: 0.5585\n",
      "Epoch 41/50\n",
      "60000/60000 [==============================] - 4s 66us/step - loss: 0.0539 - acc: 0.5589 - val_loss: 0.0538 - val_acc: 0.5589\n",
      "Epoch 42/50\n",
      "60000/60000 [==============================] - 4s 67us/step - loss: 0.0537 - acc: 0.5591 - val_loss: 0.0536 - val_acc: 0.5590\n",
      "Epoch 43/50\n",
      "60000/60000 [==============================] - 4s 67us/step - loss: 0.0535 - acc: 0.5601 - val_loss: 0.0534 - val_acc: 0.5602\n",
      "Epoch 44/50\n",
      "60000/60000 [==============================] - 4s 70us/step - loss: 0.0533 - acc: 0.5602 - val_loss: 0.0533 - val_acc: 0.5607\n",
      "Epoch 45/50\n",
      "60000/60000 [==============================] - 3s 56us/step - loss: 0.0531 - acc: 0.5608 - val_loss: 0.0531 - val_acc: 0.5613\n",
      "Epoch 46/50\n",
      "60000/60000 [==============================] - 4s 63us/step - loss: 0.0529 - acc: 0.5617 - val_loss: 0.0529 - val_acc: 0.5627\n",
      "Epoch 47/50\n",
      "60000/60000 [==============================] - 4s 64us/step - loss: 0.0527 - acc: 0.5624 - val_loss: 0.0527 - val_acc: 0.5636\n",
      "Epoch 48/50\n",
      "60000/60000 [==============================] - 4s 64us/step - loss: 0.0526 - acc: 0.5634 - val_loss: 0.0525 - val_acc: 0.5644\n",
      "Epoch 49/50\n",
      "60000/60000 [==============================] - 4s 63us/step - loss: 0.0524 - acc: 0.5646 - val_loss: 0.0523 - val_acc: 0.5664\n",
      "Epoch 50/50\n",
      "60000/60000 [==============================] - 4s 65us/step - loss: 0.0522 - acc: 0.5671 - val_loss: 0.0522 - val_acc: 0.5699\n"
     ]
    }
   ],
   "source": [
    "model_class_out = model_class.fit(x_train, y_train, batch_size=100, epochs=50)\n",
    "model_1_out = model_1.fit(x_train_n, y_train, batch_size=100, epochs=50,verbose =1,validation_data = (x_test_n,y_test))\n",
    "model_2_out = model_2.fit(x_train_n, y_train, batch_size=100, epochs=50,verbose =1,validation_data = (x_test_n,y_test))"
   ]
  },
  {
   "cell_type": "code",
   "execution_count": 19,
   "metadata": {},
   "outputs": [
    {
     "name": "stdout",
     "output_type": "stream",
     "text": [
      "10000/10000 [==============================] - 1s 68us/step\n",
      "model_class:\n",
      "loss: 0.07199550485610962\n",
      "正確率: 0.4781\n",
      "10000/10000 [==============================] - 1s 59us/step\n",
      "model_1:\n",
      "loss: 0.09143303620815277\n",
      "正確率: 0.1968\n",
      "10000/10000 [==============================] - 1s 61us/step\n",
      "model_2:\n",
      "loss: 0.05813256776332855\n",
      "正確率: 0.5183\n"
     ]
    }
   ],
   "source": [
    "score_class = model_class.evaluate(x_test, y_test)\n",
    "print('model_class:')\n",
    "print('loss:', score_class[0])\n",
    "print('正確率:', score_class[1])\n",
    "score_1 = model_1.evaluate(x_test, y_test)\n",
    "print('model_1:')\n",
    "print('loss:', score_1[0])\n",
    "print('正確率:', score_1[1])\n",
    "score_2 = model_2.evaluate(x_test, y_test)\n",
    "print('model_2:')\n",
    "print('loss:', score_2[0])\n",
    "print('正確率:', score_2[1])"
   ]
  },
  {
   "cell_type": "code",
   "execution_count": 20,
   "metadata": {},
   "outputs": [
    {
     "data": {
      "image/png": "[encoded data removed]",
      "text/plain": [
       "<matplotlib.figure.Figure at 0x28f0fcb898>"
      ]
     },
     "metadata": {},
     "output_type": "display_data"
    }
   ],
   "source": [
    "plt.plot(model_class_out.history[\"acc\"])\n",
    "plt.plot(model_1_out.history[\"acc\"])\n",
    "plt.plot(model_2_out.history[\"acc\"])\n",
    "\n",
    "plt.title(\"model training accuracy\")\n",
    "plt.ylabel(\"accuracy\")\n",
    "plt.xlabel(\"epoch\")\n",
    "plt.legend([\"Model_class\",\"Model_relu\",\"Model_tanh\"],loc=\"best\")\n",
    "plt.show()"
   ]
  },
  {
   "cell_type": "markdown",
   "metadata": {},
   "source": [
    "# 小結論 (使用tanh以及epochs=50)對於training_acc較好的提升。"
   ]
  },
  {
   "cell_type": "markdown",
   "metadata": {},
   "source": [
    "# 改變loss function 使用binary_crossentropy"
   ]
  },
  {
   "cell_type": "code",
   "execution_count": 21,
   "metadata": {},
   "outputs": [
    {
     "name": "stdout",
     "output_type": "stream",
     "text": [
      "_________________________________________________________________\n",
      "Layer (type)                 Output Shape              Param #   \n",
      "=================================================================\n",
      "dense_10 (Dense)             (None, 4)                 3140      \n",
      "_________________________________________________________________\n",
      "activation_10 (Activation)   (None, 4)                 0         \n",
      "_________________________________________________________________\n",
      "dense_11 (Dense)             (None, 2)                 10        \n",
      "_________________________________________________________________\n",
      "activation_11 (Activation)   (None, 2)                 0         \n",
      "_________________________________________________________________\n",
      "dense_12 (Dense)             (None, 10)                30        \n",
      "_________________________________________________________________\n",
      "activation_12 (Activation)   (None, 10)                0         \n",
      "=================================================================\n",
      "Total params: 3,180\n",
      "Trainable params: 3,180\n",
      "Non-trainable params: 0\n",
      "_________________________________________________________________\n"
     ]
    }
   ],
   "source": [
    "model_3 = Sequential()\n",
    "model_3.add(Dense(4, input_dim=784))\n",
    "model_3.add(Activation('tanh'))\n",
    "model_3.add(Dense(2))\n",
    "model_3.add(Activation('tanh'))\n",
    "model_3.add(Dense(10))\n",
    "model_3.add(Activation('softmax'))\n",
    "model_3.compile(loss='binary_crossentropy', optimizer=SGD(lr=0.087), metrics=['accuracy'])\n",
    "model_3.summary()"
   ]
  },
  {
   "cell_type": "code",
   "execution_count": 22,
   "metadata": {},
   "outputs": [
    {
     "name": "stdout",
     "output_type": "stream",
     "text": [
      "Train on 60000 samples, validate on 10000 samples\n",
      "Epoch 1/50\n",
      "60000/60000 [==============================] - 5s 85us/step - loss: 0.2881 - acc: 0.9000 - val_loss: 0.2729 - val_acc: 0.9000\n",
      "Epoch 2/50\n",
      "60000/60000 [==============================] - 4s 68us/step - loss: 0.2646 - acc: 0.9000 - val_loss: 0.2562 - val_acc: 0.9000\n",
      "Epoch 3/50\n",
      "60000/60000 [==============================] - 4s 69us/step - loss: 0.2500 - acc: 0.9000 - val_loss: 0.2438 - val_acc: 0.9000\n",
      "Epoch 4/50\n",
      "60000/60000 [==============================] - 4s 69us/step - loss: 0.2389 - acc: 0.9017 - val_loss: 0.2341 - val_acc: 0.9036\n",
      "Epoch 5/50\n",
      "60000/60000 [==============================] - 4s 70us/step - loss: 0.2306 - acc: 0.9041 - val_loss: 0.2267 - val_acc: 0.9041\n",
      "Epoch 6/50\n",
      "60000/60000 [==============================] - 5s 79us/step - loss: 0.2241 - acc: 0.9044 - val_loss: 0.2211 - val_acc: 0.9039\n",
      "Epoch 7/50\n",
      "60000/60000 [==============================] - 4s 73us/step - loss: 0.2191 - acc: 0.9041 - val_loss: 0.2164 - val_acc: 0.9033\n",
      "Epoch 8/50\n",
      "60000/60000 [==============================] - 4s 72us/step - loss: 0.2146 - acc: 0.9071 - val_loss: 0.2121 - val_acc: 0.9089\n",
      "Epoch 9/50\n",
      "60000/60000 [==============================] - 4s 73us/step - loss: 0.2105 - acc: 0.9101 - val_loss: 0.2083 - val_acc: 0.9094\n",
      "Epoch 10/50\n",
      "60000/60000 [==============================] - 4s 73us/step - loss: 0.2067 - acc: 0.9108 - val_loss: 0.2045 - val_acc: 0.9098\n",
      "Epoch 11/50\n",
      "60000/60000 [==============================] - 4s 73us/step - loss: 0.2033 - acc: 0.9109 - val_loss: 0.2014 - val_acc: 0.9109\n",
      "Epoch 12/50\n",
      "60000/60000 [==============================] - 4s 73us/step - loss: 0.2002 - acc: 0.9119 - val_loss: 0.1986 - val_acc: 0.9119\n",
      "Epoch 13/50\n",
      "60000/60000 [==============================] - 4s 72us/step - loss: 0.1975 - acc: 0.9127 - val_loss: 0.1959 - val_acc: 0.9122\n",
      "Epoch 14/50\n",
      "60000/60000 [==============================] - 4s 72us/step - loss: 0.1950 - acc: 0.9131 - val_loss: 0.1936 - val_acc: 0.9131\n",
      "Epoch 15/50\n",
      "60000/60000 [==============================] - 4s 72us/step - loss: 0.1925 - acc: 0.9138 - val_loss: 0.1910 - val_acc: 0.9134\n",
      "Epoch 16/50\n",
      "60000/60000 [==============================] - 4s 71us/step - loss: 0.1901 - acc: 0.9141 - val_loss: 0.1888 - val_acc: 0.9137\n",
      "Epoch 17/50\n",
      "60000/60000 [==============================] - 4s 72us/step - loss: 0.1878 - acc: 0.9145 - val_loss: 0.1866 - val_acc: 0.9139\n",
      "Epoch 18/50\n",
      "60000/60000 [==============================] - 4s 70us/step - loss: 0.1856 - acc: 0.9147 - val_loss: 0.1846 - val_acc: 0.9151\n",
      "Epoch 19/50\n",
      "60000/60000 [==============================] - 4s 71us/step - loss: 0.1834 - acc: 0.9172 - val_loss: 0.1823 - val_acc: 0.9178\n",
      "Epoch 20/50\n",
      "60000/60000 [==============================] - 4s 69us/step - loss: 0.1815 - acc: 0.9191 - val_loss: 0.1806 - val_acc: 0.9191\n",
      "Epoch 21/50\n",
      "60000/60000 [==============================] - 4s 72us/step - loss: 0.1796 - acc: 0.9202 - val_loss: 0.1787 - val_acc: 0.9201\n",
      "Epoch 22/50\n",
      "60000/60000 [==============================] - 4s 68us/step - loss: 0.1779 - acc: 0.9228 - val_loss: 0.1769 - val_acc: 0.9245\n",
      "Epoch 23/50\n",
      "60000/60000 [==============================] - 4s 69us/step - loss: 0.1763 - acc: 0.9258 - val_loss: 0.1753 - val_acc: 0.9255\n",
      "Epoch 24/50\n",
      "60000/60000 [==============================] - 4s 67us/step - loss: 0.1746 - acc: 0.9268 - val_loss: 0.1743 - val_acc: 0.9259\n",
      "Epoch 25/50\n",
      "60000/60000 [==============================] - 4s 67us/step - loss: 0.1731 - acc: 0.9274 - val_loss: 0.1727 - val_acc: 0.9271\n",
      "Epoch 26/50\n",
      "60000/60000 [==============================] - 4s 68us/step - loss: 0.1715 - acc: 0.9281 - val_loss: 0.1710 - val_acc: 0.9284\n",
      "Epoch 27/50\n",
      "60000/60000 [==============================] - 4s 68us/step - loss: 0.1699 - acc: 0.9295 - val_loss: 0.1692 - val_acc: 0.9300\n",
      "Epoch 28/50\n",
      "60000/60000 [==============================] - 5s 76us/step - loss: 0.1682 - acc: 0.9310 - val_loss: 0.1676 - val_acc: 0.9314\n",
      "Epoch 29/50\n",
      "60000/60000 [==============================] - 4s 71us/step - loss: 0.1662 - acc: 0.9326 - val_loss: 0.1652 - val_acc: 0.9332\n",
      "Epoch 30/50\n",
      "60000/60000 [==============================] - 4s 66us/step - loss: 0.1641 - acc: 0.9364 - val_loss: 0.1629 - val_acc: 0.9369\n",
      "Epoch 31/50\n",
      "60000/60000 [==============================] - 4s 67us/step - loss: 0.1618 - acc: 0.9391 - val_loss: 0.1609 - val_acc: 0.9408\n",
      "Epoch 32/50\n",
      "60000/60000 [==============================] - 4s 65us/step - loss: 0.1596 - acc: 0.9416 - val_loss: 0.1586 - val_acc: 0.9417\n",
      "Epoch 33/50\n",
      "60000/60000 [==============================] - 4s 66us/step - loss: 0.1574 - acc: 0.9423 - val_loss: 0.1564 - val_acc: 0.9426\n",
      "Epoch 34/50\n",
      "60000/60000 [==============================] - 4s 66us/step - loss: 0.1553 - acc: 0.9429 - val_loss: 0.1544 - val_acc: 0.9428\n",
      "Epoch 35/50\n",
      "60000/60000 [==============================] - 4s 66us/step - loss: 0.1532 - acc: 0.9433 - val_loss: 0.1523 - val_acc: 0.9431\n",
      "Epoch 36/50\n",
      "60000/60000 [==============================] - 4s 66us/step - loss: 0.1512 - acc: 0.9448 - val_loss: 0.1508 - val_acc: 0.9457\n",
      "Epoch 37/50\n",
      "60000/60000 [==============================] - 4s 66us/step - loss: 0.1493 - acc: 0.9467 - val_loss: 0.1485 - val_acc: 0.9470\n",
      "Epoch 38/50\n",
      "60000/60000 [==============================] - 4s 66us/step - loss: 0.1473 - acc: 0.9477 - val_loss: 0.1468 - val_acc: 0.9475\n",
      "Epoch 39/50\n",
      "60000/60000 [==============================] - 4s 66us/step - loss: 0.1455 - acc: 0.9482 - val_loss: 0.1449 - val_acc: 0.9479\n",
      "Epoch 40/50\n",
      "60000/60000 [==============================] - 4s 66us/step - loss: 0.1439 - acc: 0.9490 - val_loss: 0.1434 - val_acc: 0.9521\n",
      "Epoch 41/50\n",
      "60000/60000 [==============================] - 4s 67us/step - loss: 0.1423 - acc: 0.9543 - val_loss: 0.1423 - val_acc: 0.9556\n",
      "Epoch 42/50\n",
      "60000/60000 [==============================] - 4s 69us/step - loss: 0.1408 - acc: 0.9563 - val_loss: 0.1405 - val_acc: 0.9565\n",
      "Epoch 43/50\n",
      "60000/60000 [==============================] - 4s 65us/step - loss: 0.1394 - acc: 0.9571 - val_loss: 0.1393 - val_acc: 0.9571\n",
      "Epoch 44/50\n",
      "60000/60000 [==============================] - 4s 67us/step - loss: 0.1381 - acc: 0.9573 - val_loss: 0.1385 - val_acc: 0.9570\n",
      "Epoch 45/50\n",
      "60000/60000 [==============================] - 4s 66us/step - loss: 0.1369 - acc: 0.9576 - val_loss: 0.1370 - val_acc: 0.9576\n",
      "Epoch 46/50\n",
      "60000/60000 [==============================] - 4s 66us/step - loss: 0.1359 - acc: 0.9577 - val_loss: 0.1361 - val_acc: 0.9577\n",
      "Epoch 47/50\n",
      "60000/60000 [==============================] - 4s 66us/step - loss: 0.1348 - acc: 0.9579 - val_loss: 0.1350 - val_acc: 0.9580\n",
      "Epoch 48/50\n",
      "60000/60000 [==============================] - 4s 65us/step - loss: 0.1339 - acc: 0.9580 - val_loss: 0.1345 - val_acc: 0.9578\n",
      "Epoch 49/50\n",
      "60000/60000 [==============================] - 4s 68us/step - loss: 0.1330 - acc: 0.9581 - val_loss: 0.1335 - val_acc: 0.9580\n",
      "Epoch 50/50\n",
      "60000/60000 [==============================] - 4s 67us/step - loss: 0.1323 - acc: 0.9581 - val_loss: 0.1328 - val_acc: 0.9581\n"
     ]
    }
   ],
   "source": [
    "model_3_out = model_3.fit(x_train_n, y_train, batch_size=100, epochs=50,verbose =1,validation_data = (x_test_n,y_test))"
   ]
  },
  {
   "cell_type": "code",
   "execution_count": 23,
   "metadata": {},
   "outputs": [
    {
     "name": "stdout",
     "output_type": "stream",
     "text": [
      "10000/10000 [==============================] - 1s 69us/step\n",
      "model_3:\n",
      "loss: 0.15608229885101318\n",
      "正確率: 0.9502400238990784\n"
     ]
    }
   ],
   "source": [
    "score_3 = model_3.evaluate(x_test, y_test)\n",
    "print('model_3:')\n",
    "print('loss:', score_3[0])\n",
    "print('正確率:', score_3[1])"
   ]
  },
  {
   "cell_type": "code",
   "execution_count": 24,
   "metadata": {},
   "outputs": [
    {
     "data": {
      "image/png": "[encoded data removed]",
      "text/plain": [
       "<matplotlib.figure.Figure at 0x28ff6eb5c0>"
      ]
     },
     "metadata": {},
     "output_type": "display_data"
    }
   ],
   "source": [
    "plt.plot(model_2_out.history[\"acc\"])\n",
    "plt.plot(model_3_out.history[\"acc\"])\n",
    "\n",
    "plt.title(\"model training accuracy\")\n",
    "plt.ylabel(\"accuracy\")\n",
    "plt.xlabel(\"epoch\")\n",
    "plt.legend([\"Model_tanh_mse\",\"Model_tanh_bce\"],loc=\"best\")\n",
    "plt.show()"
   ]
  },
  {
   "cell_type": "markdown",
   "metadata": {},
   "source": [
    "# 小結論(Binary_crossentropy > mse in this case)"
   ]
  },
  {
   "cell_type": "markdown",
   "metadata": {},
   "source": [
    "# 改變learning rate 變成10倍"
   ]
  },
  {
   "cell_type": "code",
   "execution_count": 25,
   "metadata": {},
   "outputs": [
    {
     "name": "stdout",
     "output_type": "stream",
     "text": [
      "_________________________________________________________________\n",
      "Layer (type)                 Output Shape              Param #   \n",
      "=================================================================\n",
      "dense_13 (Dense)             (None, 4)                 3140      \n",
      "_________________________________________________________________\n",
      "activation_13 (Activation)   (None, 4)                 0         \n",
      "_________________________________________________________________\n",
      "dense_14 (Dense)             (None, 2)                 10        \n",
      "_________________________________________________________________\n",
      "activation_14 (Activation)   (None, 2)                 0         \n",
      "_________________________________________________________________\n",
      "dense_15 (Dense)             (None, 10)                30        \n",
      "_________________________________________________________________\n",
      "activation_15 (Activation)   (None, 10)                0         \n",
      "=================================================================\n",
      "Total params: 3,180\n",
      "Trainable params: 3,180\n",
      "Non-trainable params: 0\n",
      "_________________________________________________________________\n"
     ]
    }
   ],
   "source": [
    "model_4 = Sequential()\n",
    "model_4.add(Dense(4, input_dim=784))\n",
    "model_4.add(Activation('tanh'))\n",
    "model_4.add(Dense(2))\n",
    "model_4.add(Activation('tanh'))\n",
    "model_4.add(Dense(10))\n",
    "model_4.add(Activation('softmax'))\n",
    "model_4.compile(loss='binary_crossentropy', optimizer=SGD(lr=0.87), metrics=['accuracy'])\n",
    "model_4.summary()"
   ]
  },
  {
   "cell_type": "code",
   "execution_count": 26,
   "metadata": {},
   "outputs": [
    {
     "name": "stdout",
     "output_type": "stream",
     "text": [
      "Train on 60000 samples, validate on 10000 samples\n",
      "Epoch 1/50\n",
      "60000/60000 [==============================] - 5s 86us/step - loss: 0.2424 - acc: 0.9007 - val_loss: 0.2135 - val_acc: 0.9045\n",
      "Epoch 2/50\n",
      "60000/60000 [==============================] - 5s 76us/step - loss: 0.1962 - acc: 0.9244 - val_loss: 0.1859 - val_acc: 0.9347\n",
      "Epoch 3/50\n",
      "60000/60000 [==============================] - 4s 74us/step - loss: 0.1775 - acc: 0.9376 - val_loss: 0.1703 - val_acc: 0.9388\n",
      "Epoch 4/50\n",
      "60000/60000 [==============================] - 4s 74us/step - loss: 0.1635 - acc: 0.9390 - val_loss: 0.1581 - val_acc: 0.9382\n",
      "Epoch 5/50\n",
      "60000/60000 [==============================] - 5s 79us/step - loss: 0.1530 - acc: 0.9390 - val_loss: 0.1510 - val_acc: 0.9379\n",
      "Epoch 6/50\n",
      "60000/60000 [==============================] - 5s 76us/step - loss: 0.1467 - acc: 0.9390 - val_loss: 0.1457 - val_acc: 0.9379\n",
      "Epoch 7/50\n",
      "60000/60000 [==============================] - 4s 70us/step - loss: 0.1428 - acc: 0.9421 - val_loss: 0.1411 - val_acc: 0.9427\n",
      "Epoch 8/50\n",
      "60000/60000 [==============================] - 4s 71us/step - loss: 0.1400 - acc: 0.9434 - val_loss: 0.1392 - val_acc: 0.9436\n",
      "Epoch 9/50\n",
      "60000/60000 [==============================] - 3s 47us/step - loss: 0.1374 - acc: 0.9440 - val_loss: 0.1363 - val_acc: 0.9446\n",
      "Epoch 10/50\n",
      "60000/60000 [==============================] - 2s 41us/step - loss: 0.1356 - acc: 0.9466 - val_loss: 0.1346 - val_acc: 0.9488\n",
      "Epoch 11/50\n",
      "60000/60000 [==============================] - 3s 42us/step - loss: 0.1331 - acc: 0.9513 - val_loss: 0.1306 - val_acc: 0.9543\n",
      "Epoch 12/50\n",
      "60000/60000 [==============================] - 3s 43us/step - loss: 0.1291 - acc: 0.9552 - val_loss: 0.1254 - val_acc: 0.9564\n",
      "Epoch 13/50\n",
      "60000/60000 [==============================] - 3s 46us/step - loss: 0.1264 - acc: 0.9561 - val_loss: 0.1277 - val_acc: 0.9553\n",
      "Epoch 14/50\n",
      "60000/60000 [==============================] - 2s 40us/step - loss: 0.1250 - acc: 0.9566 - val_loss: 0.1242 - val_acc: 0.9565\n",
      "Epoch 15/50\n",
      "60000/60000 [==============================] - 2s 35us/step - loss: 0.1244 - acc: 0.9568 - val_loss: 0.1238 - val_acc: 0.9571\n",
      "Epoch 16/50\n",
      "60000/60000 [==============================] - 4s 70us/step - loss: 0.1235 - acc: 0.9569 - val_loss: 0.1257 - val_acc: 0.9565\n",
      "Epoch 17/50\n",
      "60000/60000 [==============================] - 4s 70us/step - loss: 0.1225 - acc: 0.9572 - val_loss: 0.1308 - val_acc: 0.9549\n",
      "Epoch 18/50\n",
      "60000/60000 [==============================] - 4s 69us/step - loss: 0.1226 - acc: 0.9570 - val_loss: 0.1228 - val_acc: 0.9569\n",
      "Epoch 19/50\n",
      "60000/60000 [==============================] - 5s 79us/step - loss: 0.1219 - acc: 0.9572 - val_loss: 0.1221 - val_acc: 0.9574\n",
      "Epoch 20/50\n",
      "60000/60000 [==============================] - 5s 80us/step - loss: 0.1217 - acc: 0.9573 - val_loss: 0.1224 - val_acc: 0.9575\n",
      "Epoch 21/50\n",
      "60000/60000 [==============================] - 5s 78us/step - loss: 0.1212 - acc: 0.9573 - val_loss: 0.1217 - val_acc: 0.9570\n",
      "Epoch 22/50\n",
      "60000/60000 [==============================] - 5s 77us/step - loss: 0.1207 - acc: 0.9577 - val_loss: 0.1226 - val_acc: 0.9579\n",
      "Epoch 23/50\n",
      "60000/60000 [==============================] - 4s 69us/step - loss: 0.1211 - acc: 0.9577 - val_loss: 0.1225 - val_acc: 0.9574\n",
      "Epoch 24/50\n",
      "60000/60000 [==============================] - 4s 68us/step - loss: 0.1204 - acc: 0.9579 - val_loss: 0.1267 - val_acc: 0.9573\n",
      "Epoch 25/50\n",
      "60000/60000 [==============================] - 4s 68us/step - loss: 0.1205 - acc: 0.9582 - val_loss: 0.1239 - val_acc: 0.9586\n",
      "Epoch 26/50\n",
      "60000/60000 [==============================] - 4s 68us/step - loss: 0.1204 - acc: 0.9582 - val_loss: 0.1220 - val_acc: 0.9581\n",
      "Epoch 27/50\n",
      "60000/60000 [==============================] - 4s 68us/step - loss: 0.1200 - acc: 0.9581 - val_loss: 0.1285 - val_acc: 0.9572\n",
      "Epoch 28/50\n",
      "60000/60000 [==============================] - 4s 68us/step - loss: 0.1199 - acc: 0.9582 - val_loss: 0.1226 - val_acc: 0.9574\n",
      "Epoch 29/50\n",
      "60000/60000 [==============================] - 4s 68us/step - loss: 0.1195 - acc: 0.9584 - val_loss: 0.1217 - val_acc: 0.9581\n",
      "Epoch 30/50\n",
      "60000/60000 [==============================] - 4s 70us/step - loss: 0.1197 - acc: 0.9583 - val_loss: 0.1217 - val_acc: 0.9585\n",
      "Epoch 31/50\n",
      "60000/60000 [==============================] - 4s 67us/step - loss: 0.1192 - acc: 0.9584 - val_loss: 0.1224 - val_acc: 0.9587\n",
      "Epoch 32/50\n",
      "60000/60000 [==============================] - 4s 74us/step - loss: 0.1193 - acc: 0.9587 - val_loss: 0.1251 - val_acc: 0.9563\n",
      "Epoch 33/50\n",
      "60000/60000 [==============================] - 4s 71us/step - loss: 0.1192 - acc: 0.9585 - val_loss: 0.1238 - val_acc: 0.9577\n",
      "Epoch 34/50\n",
      "60000/60000 [==============================] - 4s 66us/step - loss: 0.1192 - acc: 0.9585 - val_loss: 0.1226 - val_acc: 0.9573\n",
      "Epoch 35/50\n",
      "60000/60000 [==============================] - 4s 65us/step - loss: 0.1190 - acc: 0.9587 - val_loss: 0.1220 - val_acc: 0.9584\n",
      "Epoch 36/50\n",
      "60000/60000 [==============================] - 4s 66us/step - loss: 0.1191 - acc: 0.9588 - val_loss: 0.1256 - val_acc: 0.9554\n",
      "Epoch 37/50\n",
      "60000/60000 [==============================] - 4s 65us/step - loss: 0.1188 - acc: 0.9589 - val_loss: 0.1227 - val_acc: 0.9575\n",
      "Epoch 38/50\n",
      "60000/60000 [==============================] - 4s 65us/step - loss: 0.1185 - acc: 0.9590 - val_loss: 0.1240 - val_acc: 0.9583\n",
      "Epoch 39/50\n",
      "60000/60000 [==============================] - 4s 65us/step - loss: 0.1188 - acc: 0.9588 - val_loss: 0.1236 - val_acc: 0.9579\n",
      "Epoch 40/50\n",
      "60000/60000 [==============================] - 4s 65us/step - loss: 0.1183 - acc: 0.9590 - val_loss: 0.1229 - val_acc: 0.9573\n",
      "Epoch 41/50\n",
      "60000/60000 [==============================] - 4s 65us/step - loss: 0.1187 - acc: 0.9592 - val_loss: 0.1226 - val_acc: 0.9577\n",
      "Epoch 42/50\n",
      "60000/60000 [==============================] - 4s 66us/step - loss: 0.1186 - acc: 0.9590 - val_loss: 0.1240 - val_acc: 0.9580\n",
      "Epoch 43/50\n",
      "60000/60000 [==============================] - 4s 65us/step - loss: 0.1180 - acc: 0.9593 - val_loss: 0.1264 - val_acc: 0.9577\n",
      "Epoch 44/50\n",
      "60000/60000 [==============================] - 4s 66us/step - loss: 0.1181 - acc: 0.9590 - val_loss: 0.1213 - val_acc: 0.9584\n",
      "Epoch 45/50\n",
      "60000/60000 [==============================] - 4s 65us/step - loss: 0.1183 - acc: 0.9590 - val_loss: 0.1233 - val_acc: 0.9586\n",
      "Epoch 46/50\n",
      "60000/60000 [==============================] - 4s 66us/step - loss: 0.1180 - acc: 0.9592 - val_loss: 0.1220 - val_acc: 0.9578\n",
      "Epoch 47/50\n",
      "60000/60000 [==============================] - 4s 69us/step - loss: 0.1180 - acc: 0.9591 - val_loss: 0.1212 - val_acc: 0.9585\n",
      "Epoch 48/50\n",
      "60000/60000 [==============================] - 4s 66us/step - loss: 0.1181 - acc: 0.9594 - val_loss: 0.1275 - val_acc: 0.9568\n",
      "Epoch 49/50\n",
      "60000/60000 [==============================] - 4s 64us/step - loss: 0.1177 - acc: 0.9593 - val_loss: 0.1256 - val_acc: 0.9576\n",
      "Epoch 50/50\n",
      "60000/60000 [==============================] - 4s 65us/step - loss: 0.1182 - acc: 0.9593 - val_loss: 0.1212 - val_acc: 0.9582\n"
     ]
    }
   ],
   "source": [
    "model_4_out = model_4.fit(x_train_n, y_train, batch_size=100, epochs=50,verbose =1,validation_data = (x_test_n,y_test))"
   ]
  },
  {
   "cell_type": "code",
   "execution_count": 27,
   "metadata": {},
   "outputs": [
    {
     "name": "stdout",
     "output_type": "stream",
     "text": [
      "10000/10000 [==============================] - 1s 76us/step\n",
      "model_4:\n",
      "loss: 0.1858270119190216\n",
      "正確率: 0.9442000256538391\n"
     ]
    }
   ],
   "source": [
    "score_4 = model_4.evaluate(x_test, y_test)\n",
    "print('model_4:')\n",
    "print('loss:', score_4[0])\n",
    "print('正確率:', score_4[1])"
   ]
  },
  {
   "cell_type": "code",
   "execution_count": 28,
   "metadata": {},
   "outputs": [
    {
     "data": {
      "image/png": "[encoded data removed]",
      "text/plain": [
       "<matplotlib.figure.Figure at 0x28ffa3b0b8>"
      ]
     },
     "metadata": {},
     "output_type": "display_data"
    }
   ],
   "source": [
    "plt.plot(model_3_out.history[\"acc\"])\n",
    "plt.plot(model_4_out.history[\"acc\"])\n",
    "\n",
    "plt.title(\"model training accuracy\")\n",
    "plt.ylabel(\"accuracy\")\n",
    "plt.xlabel(\"epoch\")\n",
    "plt.legend([\"Model_tanh_bce_lr=0.087\",\"Model_tanh_bce_lr=0.87\"],loc=\"best\")\n",
    "plt.show()"
   ]
  },
  {
   "cell_type": "markdown",
   "metadata": {},
   "source": [
    "# 此時我們增加每層的神經元數量"
   ]
  },
  {
   "cell_type": "code",
   "execution_count": 29,
   "metadata": {},
   "outputs": [
    {
     "name": "stdout",
     "output_type": "stream",
     "text": [
      "_________________________________________________________________\n",
      "Layer (type)                 Output Shape              Param #   \n",
      "=================================================================\n",
      "dense_16 (Dense)             (None, 100)               78500     \n",
      "_________________________________________________________________\n",
      "activation_16 (Activation)   (None, 100)               0         \n",
      "_________________________________________________________________\n",
      "dense_17 (Dense)             (None, 50)                5050      \n",
      "_________________________________________________________________\n",
      "activation_17 (Activation)   (None, 50)                0         \n",
      "_________________________________________________________________\n",
      "dense_18 (Dense)             (None, 10)                510       \n",
      "_________________________________________________________________\n",
      "activation_18 (Activation)   (None, 10)                0         \n",
      "=================================================================\n",
      "Total params: 84,060\n",
      "Trainable params: 84,060\n",
      "Non-trainable params: 0\n",
      "_________________________________________________________________\n"
     ]
    }
   ],
   "source": [
    "model_5 = Sequential()\n",
    "model_5.add(Dense(100, input_dim=784))\n",
    "model_5.add(Activation('tanh'))\n",
    "model_5.add(Dense(50))\n",
    "model_5.add(Activation('tanh'))\n",
    "model_5.add(Dense(10))\n",
    "model_5.add(Activation('softmax'))\n",
    "model_5.compile(loss='binary_crossentropy', optimizer=SGD(lr=0.87), metrics=['accuracy'])\n",
    "model_5.summary()"
   ]
  },
  {
   "cell_type": "code",
   "execution_count": 30,
   "metadata": {},
   "outputs": [
    {
     "name": "stdout",
     "output_type": "stream",
     "text": [
      "Train on 60000 samples, validate on 10000 samples\n",
      "Epoch 1/50\n",
      "60000/60000 [==============================] - 8s 139us/step - loss: 0.0637 - acc: 0.9786 - val_loss: 0.0388 - val_acc: 0.9872\n",
      "Epoch 2/50\n",
      "60000/60000 [==============================] - 5s 89us/step - loss: 0.0349 - acc: 0.9886 - val_loss: 0.0290 - val_acc: 0.9902\n",
      "Epoch 3/50\n",
      "60000/60000 [==============================] - 5s 81us/step - loss: 0.0267 - acc: 0.9914 - val_loss: 0.0244 - val_acc: 0.9916\n",
      "Epoch 4/50\n",
      "60000/60000 [==============================] - 5s 78us/step - loss: 0.0218 - acc: 0.9930 - val_loss: 0.0217 - val_acc: 0.9929\n",
      "Epoch 5/50\n",
      "60000/60000 [==============================] - 4s 70us/step - loss: 0.0183 - acc: 0.9942 - val_loss: 0.0207 - val_acc: 0.9927\n",
      "Epoch 6/50\n",
      "60000/60000 [==============================] - 4s 68us/step - loss: 0.0158 - acc: 0.9949 - val_loss: 0.0175 - val_acc: 0.9941\n",
      "Epoch 7/50\n",
      "60000/60000 [==============================] - 4s 62us/step - loss: 0.0138 - acc: 0.9957 - val_loss: 0.0166 - val_acc: 0.9943\n",
      "Epoch 8/50\n",
      "60000/60000 [==============================] - 3s 58us/step - loss: 0.0123 - acc: 0.9962 - val_loss: 0.0152 - val_acc: 0.9948\n",
      "Epoch 9/50\n",
      "60000/60000 [==============================] - 3s 54us/step - loss: 0.0110 - acc: 0.9966 - val_loss: 0.0147 - val_acc: 0.9949\n",
      "Epoch 10/50\n",
      "60000/60000 [==============================] - 3s 54us/step - loss: 0.0098 - acc: 0.9970 - val_loss: 0.0134 - val_acc: 0.9953\n",
      "Epoch 11/50\n",
      "60000/60000 [==============================] - 3s 55us/step - loss: 0.0088 - acc: 0.9973 - val_loss: 0.0131 - val_acc: 0.9954\n",
      "Epoch 12/50\n",
      "60000/60000 [==============================] - 3s 56us/step - loss: 0.0079 - acc: 0.9976 - val_loss: 0.0127 - val_acc: 0.9956\n",
      "Epoch 13/50\n",
      "60000/60000 [==============================] - 3s 54us/step - loss: 0.0071 - acc: 0.9979 - val_loss: 0.0134 - val_acc: 0.9954\n",
      "Epoch 14/50\n",
      "60000/60000 [==============================] - 3s 53us/step - loss: 0.0064 - acc: 0.9980 - val_loss: 0.0132 - val_acc: 0.9955\n",
      "Epoch 15/50\n",
      "60000/60000 [==============================] - 3s 52us/step - loss: 0.0057 - acc: 0.9984 - val_loss: 0.0126 - val_acc: 0.9957\n",
      "Epoch 16/50\n",
      "60000/60000 [==============================] - 3s 53us/step - loss: 0.0052 - acc: 0.9986 - val_loss: 0.0124 - val_acc: 0.9957\n",
      "Epoch 17/50\n",
      "60000/60000 [==============================] - 3s 55us/step - loss: 0.0046 - acc: 0.9988 - val_loss: 0.0130 - val_acc: 0.9954\n",
      "Epoch 18/50\n",
      "60000/60000 [==============================] - 3s 51us/step - loss: 0.0042 - acc: 0.9990 - val_loss: 0.0126 - val_acc: 0.9956\n",
      "Epoch 19/50\n",
      "60000/60000 [==============================] - 3s 51us/step - loss: 0.0037 - acc: 0.9992 - val_loss: 0.0123 - val_acc: 0.9957\n",
      "Epoch 20/50\n",
      "60000/60000 [==============================] - 3s 49us/step - loss: 0.0033 - acc: 0.9993 - val_loss: 0.0129 - val_acc: 0.9956\n",
      "Epoch 21/50\n",
      "60000/60000 [==============================] - 3s 49us/step - loss: 0.0031 - acc: 0.9993 - val_loss: 0.0125 - val_acc: 0.9956\n",
      "Epoch 22/50\n",
      "60000/60000 [==============================] - 3s 50us/step - loss: 0.0027 - acc: 0.9994 - val_loss: 0.0125 - val_acc: 0.9958\n",
      "Epoch 23/50\n",
      "60000/60000 [==============================] - 3s 49us/step - loss: 0.0024 - acc: 0.9996 - val_loss: 0.0126 - val_acc: 0.9957\n",
      "Epoch 24/50\n",
      "60000/60000 [==============================] - 3s 55us/step - loss: 0.0022 - acc: 0.9996 - val_loss: 0.0126 - val_acc: 0.9958\n",
      "Epoch 25/50\n",
      "60000/60000 [==============================] - 3s 47us/step - loss: 0.0020 - acc: 0.9997 - val_loss: 0.0125 - val_acc: 0.9959\n",
      "Epoch 26/50\n",
      "60000/60000 [==============================] - 3s 46us/step - loss: 0.0018 - acc: 0.9998 - val_loss: 0.0128 - val_acc: 0.9956\n",
      "Epoch 27/50\n",
      "60000/60000 [==============================] - 3s 47us/step - loss: 0.0016 - acc: 0.9998 - val_loss: 0.0124 - val_acc: 0.9957\n",
      "Epoch 28/50\n",
      "60000/60000 [==============================] - 3s 47us/step - loss: 0.0015 - acc: 0.9998 - val_loss: 0.0128 - val_acc: 0.9959\n",
      "Epoch 29/50\n",
      "60000/60000 [==============================] - 3s 49us/step - loss: 0.0013 - acc: 0.9999 - val_loss: 0.0132 - val_acc: 0.9957\n",
      "Epoch 30/50\n",
      "60000/60000 [==============================] - 3s 49us/step - loss: 0.0012 - acc: 0.9999 - val_loss: 0.0128 - val_acc: 0.9957\n",
      "Epoch 31/50\n",
      "60000/60000 [==============================] - 3s 49us/step - loss: 0.0011 - acc: 0.9999 - val_loss: 0.0132 - val_acc: 0.9957\n",
      "Epoch 32/50\n",
      "60000/60000 [==============================] - 3s 50us/step - loss: 0.0010 - acc: 0.9999 - val_loss: 0.0129 - val_acc: 0.9957\n",
      "Epoch 33/50\n",
      "60000/60000 [==============================] - 3s 50us/step - loss: 9.2918e-04 - acc: 0.9999 - val_loss: 0.0133 - val_acc: 0.9956\n",
      "Epoch 34/50\n",
      "60000/60000 [==============================] - 3s 51us/step - loss: 8.7018e-04 - acc: 0.9999 - val_loss: 0.0132 - val_acc: 0.9956\n",
      "Epoch 35/50\n",
      "60000/60000 [==============================] - 3s 52us/step - loss: 7.9852e-04 - acc: 0.9999 - val_loss: 0.0134 - val_acc: 0.9955\n",
      "Epoch 36/50\n",
      "60000/60000 [==============================] - 3s 51us/step - loss: 7.3345e-04 - acc: 1.0000 - val_loss: 0.0134 - val_acc: 0.9957\n",
      "Epoch 37/50\n",
      "60000/60000 [==============================] - 3s 52us/step - loss: 6.7629e-04 - acc: 1.0000 - val_loss: 0.0137 - val_acc: 0.9955\n",
      "Epoch 38/50\n",
      "60000/60000 [==============================] - 3s 52us/step - loss: 6.4188e-04 - acc: 1.0000 - val_loss: 0.0135 - val_acc: 0.9956\n",
      "Epoch 39/50\n",
      "60000/60000 [==============================] - 3s 52us/step - loss: 6.0343e-04 - acc: 1.0000 - val_loss: 0.0138 - val_acc: 0.9955\n",
      "Epoch 40/50\n",
      "60000/60000 [==============================] - 3s 52us/step - loss: 5.5899e-04 - acc: 1.0000 - val_loss: 0.0137 - val_acc: 0.9956\n",
      "Epoch 41/50\n",
      "60000/60000 [==============================] - 4s 60us/step - loss: 5.4022e-04 - acc: 1.0000 - val_loss: 0.0135 - val_acc: 0.9956\n",
      "Epoch 42/50\n",
      "60000/60000 [==============================] - 3s 52us/step - loss: 5.0259e-04 - acc: 1.0000 - val_loss: 0.0138 - val_acc: 0.9955\n",
      "Epoch 43/50\n",
      "60000/60000 [==============================] - 3s 47us/step - loss: 4.7809e-04 - acc: 1.0000 - val_loss: 0.0139 - val_acc: 0.9956\n",
      "Epoch 44/50\n",
      "60000/60000 [==============================] - 3s 49us/step - loss: 4.5300e-04 - acc: 1.0000 - val_loss: 0.0139 - val_acc: 0.9956\n",
      "Epoch 45/50\n",
      "60000/60000 [==============================] - 3s 49us/step - loss: 4.2780e-04 - acc: 1.0000 - val_loss: 0.0140 - val_acc: 0.9957\n",
      "Epoch 46/50\n",
      "60000/60000 [==============================] - 3s 50us/step - loss: 4.0634e-04 - acc: 1.0000 - val_loss: 0.0140 - val_acc: 0.9956\n",
      "Epoch 47/50\n",
      "60000/60000 [==============================] - 3s 53us/step - loss: 3.8618e-04 - acc: 1.0000 - val_loss: 0.0139 - val_acc: 0.9957\n",
      "Epoch 48/50\n",
      "60000/60000 [==============================] - 3s 53us/step - loss: 3.6856e-04 - acc: 1.0000 - val_loss: 0.0141 - val_acc: 0.9956\n",
      "Epoch 49/50\n",
      "60000/60000 [==============================] - 3s 54us/step - loss: 3.5346e-04 - acc: 1.0000 - val_loss: 0.0144 - val_acc: 0.9956\n",
      "Epoch 50/50\n",
      "60000/60000 [==============================] - 3s 49us/step - loss: 3.3383e-04 - acc: 1.0000 - val_loss: 0.0142 - val_acc: 0.9956\n"
     ]
    }
   ],
   "source": [
    "model_5_out = model_5.fit(x_train_n, y_train, batch_size=100, epochs=50,verbose =1,validation_data = (x_test_n,y_test))"
   ]
  },
  {
   "cell_type": "code",
   "execution_count": 31,
   "metadata": {},
   "outputs": [
    {
     "name": "stdout",
     "output_type": "stream",
     "text": [
      "10000/10000 [==============================] - 0s 36us/step\n",
      "model_5:\n",
      "loss: 0.037795527672632306\n",
      "正確率: 0.9900000024795532\n"
     ]
    }
   ],
   "source": [
    "score_5 = model_5.evaluate(x_test, y_test)\n",
    "print('model_5:')\n",
    "print('loss:', score_5[0])\n",
    "print('正確率:', score_5[1])"
   ]
  },
  {
   "cell_type": "code",
   "execution_count": 32,
   "metadata": {},
   "outputs": [
    {
     "data": {
      "image/png": "[encoded data removed]",
      "text/plain": [
       "<matplotlib.figure.Figure at 0x28f2872358>"
      ]
     },
     "metadata": {},
     "output_type": "display_data"
    }
   ],
   "source": [
    "plt.plot(model_4_out.history[\"acc\"])\n",
    "plt.plot(model_5_out.history[\"acc\"])\n",
    "\n",
    "plt.title(\"model training accuracy\")\n",
    "plt.ylabel(\"accuracy\")\n",
    "plt.xlabel(\"epoch\")\n",
    "plt.legend([\"Model_tanh_bce_lr=0.87\",\"Model_tanh_bce_lr=0.87_neuron\"],loc=\"best\")\n",
    "plt.show()"
   ]
  },
  {
   "cell_type": "markdown",
   "metadata": {},
   "source": [
    "# 結論，在這個case中，改變了激活函數、Loss function、lr、以及每層的神經元數量等便將正確率提升至 0.99"
   ]
  },
  {
   "cell_type": "code",
   "execution_count": null,
   "metadata": {},
   "outputs": [],
   "source": []
  }
 ],
 "metadata": {
  "kernelspec": {
   "display_name": "Python 3",
   "language": "python",
   "name": "python3"
  },
  "language_info": {
   "codemirror_mode": {
    "name": "ipython",
    "version": 3
   },
   "file_extension": ".py",
   "mimetype": "text/x-python",
   "name": "python",
   "nbconvert_exporter": "python",
   "pygments_lexer": "ipython3",
   "version": "3.6.4"
  }
 },
 "nbformat": 4,
 "nbformat_minor": 2
}
