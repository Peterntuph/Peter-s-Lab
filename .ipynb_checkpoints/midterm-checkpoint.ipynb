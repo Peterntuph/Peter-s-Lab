{
 "cells": [
  {
   "cell_type": "code",
   "execution_count": 1,
   "metadata": {},
   "outputs": [],
   "source": [
    "#答案集\n",
    "import random\n",
    "import time\n",
    "answers = ['這是必然', '肯定是的', '不用懷疑', '毫無疑問', '如我所見，是的', '很有可能', '標誌指出「是的」','放心吧，可以的'\n",
    "           , '回覆攏統，再試試', '待會再問', '最好現在不告訴你', '現在無法預測', '專心再問一次'\n",
    "           , '想的美', '我的回覆是「不」', '我的來源說「不」', '看來不太好', '很可疑']"
   ]
  },
  {
   "cell_type": "code",
   "execution_count": 2,
   "metadata": {},
   "outputs": [],
   "source": [
    "def Start():\n",
    "    print('問我一個你想問的問題吧!!!(是非題)')\n",
    "    question = input()\n",
    "    print (answers[random.randint(0, len(answers)-1)] )\n",
    "    print('')\n",
    "    print('')\n",
    "    print('但你可以參考以下結果')\n",
    "    time.sleep(1)\n",
    "    Solution(question)\n",
    "    print('')\n",
    "    print('')\n",
    "    Replay()"
   ]
  },
  {
   "cell_type": "code",
   "execution_count": 3,
   "metadata": {},
   "outputs": [],
   "source": [
    "def Replay():\n",
    "    print ('你有其他問題嗎? [Y/N] ')\n",
    "    reply = input()\n",
    "    if reply == 'Y':\n",
    "        Start()\n",
    "    elif reply == 'N':\n",
    "        exit()\n",
    "    else:\n",
    "        print('錯誤，請輸入Y 或是 N')\n",
    "        Replay()"
   ]
  },
  {
   "cell_type": "code",
   "execution_count": 4,
   "metadata": {},
   "outputs": [],
   "source": [
    "import requests\n",
    "from bs4 import BeautifulSoup\n",
    "\n",
    "def Solution(question):\n",
    "    # Google 搜尋 URL\n",
    "    google_url = 'https://www.google.com.tw/search'\n",
    "\n",
    "    # 查詢參數\n",
    "    my_params = {'q': question}\n",
    "\n",
    "    # Google 搜尋結果\n",
    "    r = requests.get(google_url, params = my_params)\n",
    "\n",
    "    if r.status_code == requests.codes.ok:\n",
    "        # 解析 HTML 原始碼\n",
    "        soup = BeautifulSoup(r.text, 'html.parser')\n",
    "\n",
    "        # 以 CSS 的選擇器來抓取 Google 的搜尋結果\n",
    "        items = soup.select('div.g > h3.r > a[href^=\"/url\"]')\n",
    "        for i in items:\n",
    "            print(\"標題：\" + i.text)\n",
    "            print(\"網址：\" + i.get('href'))\n",
    "            time.sleep(0.2)"
   ]
  },
  {
   "cell_type": "code",
   "execution_count": 5,
   "metadata": {},
   "outputs": [
    {
     "name": "stdout",
     "output_type": "stream",
     "text": [
      "  __  __          _____ _____ _____    ___  \n",
      " |  \\/  |   /\\   / ____|_   _/ ____|  / _ \\ \n",
      " | \\  / |  /  \\ | |  __  | || |      | (_) |\n",
      " | |\\/| | / /\\ \\| | |_ | | || |       > _ < \n",
      " | |  | |/ ____ \\ |__| |_| || |____  | (_) |\n",
      " |_|  |_/_/    \\_\\_____|_____\\_____|  \\___/ \n",
      "\n",
      "\n",
      "嗨你好，歡迎來到神奇8號球，請問你叫?\n",
      "peter\n",
      "你好 peter\n",
      "問我一個你想問的問題吧!!!(是非題)\n",
      "我這學期會 all pass 嗎?\n",
      "想的美\n",
      "\n",
      "\n",
      "但你可以參考以下結果\n",
      "標題：塔羅占卜/我這學期可以all pass嗎? @ Amber 安珀的占卜世界:: 痞客邦::\n",
      "網址：/url?q=http://ambersince08.pixnet.net/blog/post/63699349-%25E5%25A1%2594%25E7%25BE%2585%25E5%258D%25A0%25E5%258D%259C-%25E6%2588%2591%25E9%2580%2599%25E5%25AD%25B8%25E6%259C%259F%25E5%258F%25AF%25E4%25BB%25A5all-pass%25E5%2597%258E%253F&sa=U&ved=0ahUKEwjFocr0ndThAhUxyYsBHV9HAkAQFggTMAA&usg=AOvVaw26MyH6ExsIi-Qdf54WvqR8\n",
      "標題：【小龜-翻書心測】這學期會ALL PASS嗎？ | Friendo 粉多任務\n",
      "網址：/url?q=http://www.friendo.com.tw/Mission/1426&sa=U&ved=0ahUKEwjFocr0ndThAhUxyYsBHV9HAkAQFggZMAE&usg=AOvVaw2A23TS_QxpErN61V40zQTd\n",
      "標題：【塔羅貓】骰子小占卜：我會不會All Pass - 塔羅貓玩塔羅 - 痞客邦\n",
      "網址：/url?q=http://tarotcat.pixnet.net/blog/post/23556959-%25E3%2580%2590%25E5%25A1%2594%25E7%25BE%2585%25E8%25B2%2593%25E3%2580%2591%25E9%25AA%25B0%25E5%25AD%2590%25E5%25B0%258F%25E5%258D%25A0%25E5%258D%259C%25EF%25BC%259A%25E6%2588%2591%25E6%259C%2583%25E4%25B8%258D%25E6%259C%2583all-pass&sa=U&ved=0ahUKEwjFocr0ndThAhUxyYsBHV9HAkAQFggcMAI&usg=AOvVaw0kziTTTmiZta_Q36T8LnLT\n",
      "標題：I want All Pass. @ 我是柚柚 - amyandmayu - 痞客邦\n",
      "網址：/url?q=http://amyandmayu.pixnet.net/blog/post/27970111-i-want-all-pass.&sa=U&ved=0ahUKEwjFocr0ndThAhUxyYsBHV9HAkAQFggmMAQ&usg=AOvVaw1e7ZbH6_GlJPulmXOcpgyH\n",
      "標題：有人沒all pass嗎- Dcard 大同大學板\n",
      "網址：/url?q=https://www.dcard.tw/f/ttu/p/229157410&sa=U&ved=0ahUKEwjFocr0ndThAhUxyYsBHV9HAkAQFggsMAU&usg=AOvVaw2jSk_5Fiuo3AkmYVlHef2z\n",
      "標題：【塔羅占卜】我的願望是否會實現？ @ 邱于玥網路塔羅占星紫微:: 痞客邦::\n",
      "網址：/url?q=http://rothluffy.pixnet.net/blog/post/2254076-%25E3%2580%2590%25E5%25A1%2594%25E7%25BE%2585%25E5%258D%25A0%25E5%258D%259C%25E3%2580%2591%25E6%2588%2591%25E7%259A%2584%25E9%25A1%2598%25E6%259C%259B%25E6%2598%25AF%25E5%2590%25A6%25E6%259C%2583%25E5%25AF%25A6%25E7%258F%25BE%25EF%25BC%259F&sa=U&ved=0ahUKEwjFocr0ndThAhUxyYsBHV9HAkAQFggxMAY&usg=AOvVaw1xxklEW16WG-ipppqKCIJP\n",
      "標題：文字占卜-這學期的課業有危機嗎~ 一枚的異想世界Hi, I love Tarot.\n",
      "網址：/url?q=http://jerg8035.blogspot.com/2011/06/blog-post_47.html&sa=U&ved=0ahUKEwjFocr0ndThAhUxyYsBHV9HAkAQFgg3MAc&usg=AOvVaw0ELXwZ1sE-KWGQCjt5XJVd\n",
      "標題：【討論】上學期!你ALL PASS了嗎- 大學校園生活版- 深藍論壇\n",
      "網址：/url?q=https://www.student.tw/topic/75423-%25E3%2580%2590%25E8%25A8%258E%25E8%25AB%2596%25E3%2580%2591%25E4%25B8%258A%25E5%25AD%25B8%25E6%259C%259F%25E4%25BD%25A0all-pass%25E4%25BA%2586%25E5%2597%258E/&sa=U&ved=0ahUKEwjFocr0ndThAhUxyYsBHV9HAkAQFgg9MAg&usg=AOvVaw2GUNMMZ12su74Elhy-N0o8\n",
      "\n",
      "\n",
      "你有其他問題嗎? [Y/N] \n",
      "N\n"
     ]
    }
   ],
   "source": [
    "#進入介面\n",
    "print('  __  __          _____ _____ _____    ___  ')\n",
    "print(' |  \\/  |   /\\   / ____|_   _/ ____|  / _ \\ ')\n",
    "print(' | \\  / |  /  \\ | |  __  | || |      | (_) |')\n",
    "print(' | |\\/| | / /\\ \\| | |_ | | || |       > _ < ')\n",
    "print(' | |  | |/ ____ \\ |__| |_| || |____  | (_) |')\n",
    "print(' |_|  |_/_/    \\_\\_____|_____\\_____|  \\___/ ')\n",
    "print('')\n",
    "print('')\n",
    "print('嗨你好，歡迎來到神奇8號球，請問你叫?')\n",
    "names = input()\n",
    "time.sleep(0.3)\n",
    "print('你好 ' + names)\n",
    "Start()"
   ]
  }
 ],
 "metadata": {
  "kernelspec": {
   "display_name": "Python 3",
   "language": "python",
   "name": "python3"
  },
  "language_info": {
   "codemirror_mode": {
    "name": "ipython",
    "version": 3
   },
   "file_extension": ".py",
   "mimetype": "text/x-python",
   "name": "python",
   "nbconvert_exporter": "python",
   "pygments_lexer": "ipython3",
   "version": "3.6.4"
  }
 },
 "nbformat": 4,
 "nbformat_minor": 2
}
