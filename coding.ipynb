{
 "cells": [
  {
   "cell_type": "code",
   "execution_count": 17,
   "metadata": {},
   "outputs": [
    {
     "data": {
      "image/png": "[encoded data removed]",
      "text/plain": [
       "<matplotlib.figure.Figure at 0x95b819d080>"
      ]
     },
     "metadata": {},
     "output_type": "display_data"
    }
   ],
   "source": [
    "[NCTS]葉冠宏\n",
    "import matplotlib.pyplot as plt\n",
    "import numpy as np\n",
    "x=np.arange(0.00001,1,0.0001)\n",
    "y=np.sin(1/x1)\n",
    "x1=np.arange(0.00001,1,0.0001)\n",
    "y1=np.cos(1/x1)\n",
    "plt.plot(x,y,label=\"sin(1/x)\")\n",
    "plt.plot(x1,y1,label=\"cos(1/x)\")\n",
    "plt.legend(loc=\"lower right\")\n",
    "plt.show(1)"
   ]
  },
  {
   "cell_type": "code",
   "execution_count": 9,
   "metadata": {},
   "outputs": [
    {
     "data": {
      "application/vnd.jupyter.widget-view+json": {
       "model_id": "8c975a35fa2d448c9a7dac8c748d4dad",
       "version_major": 2,
       "version_minor": 0
      },
      "text/html": [
       "<p>Failed to display Jupyter Widget of type <code>interactive</code>.</p>\n",
       "<p>\n",
       "  If you're reading this message in the Jupyter Notebook or JupyterLab Notebook, it may mean\n",
       "  that the widgets JavaScript is still loading. If this message persists, it\n",
       "  likely means that the widgets JavaScript library is either not installed or\n",
       "  not enabled. See the <a href=\"https://ipywidgets.readthedocs.io/en/stable/user_install.html\">Jupyter\n",
       "  Widgets Documentation</a> for setup instructions.\n",
       "</p>\n",
       "<p>\n",
       "  If you're reading this message in another frontend (for example, a static\n",
       "  rendering on GitHub or <a href=\"https://nbviewer.jupyter.org/\">NBViewer</a>),\n",
       "  it may mean that your frontend doesn't currently support widgets.\n",
       "</p>\n"
      ],
      "text/plain": [
       "interactive(children=(IntSlider(value=5500, description='n', max=10000, min=1000, step=100), Output()), _dom_classes=('widget-interact',))"
      ]
     },
     "metadata": {},
     "output_type": "display_data"
    },
    {
     "data": {
      "text/plain": [
       "<function __main__.poisson>"
      ]
     },
     "execution_count": 9,
     "metadata": {},
     "output_type": "execute_result"
    }
   ],
   "source": [
    "#[NCTS] #葉冠宏\n",
    "import matplotlib as plt\n",
    "import numpy as np\n",
    "from ipywidgets import interact, interactive, fixed, interact_manual\n",
    "import ipywidgets as widgets\n",
    "\n",
    "def poisson(n):\n",
    "    s=np.random.poisson(10,n)\n",
    "    plt.pyplot.hist(s,density = True)\n",
    "\n",
    "interact (poisson,n=(1000,10000,100))"
   ]
  },
  {
   "cell_type": "code",
   "execution_count": 1,
   "metadata": {},
   "outputs": [
    {
     "name": "stdout",
     "output_type": "stream",
     "text": [
      "87\n",
      "1 < ? < 100\n",
      "90\n",
      "wrong answer, guess smaller\n",
      "1 < ? < 90\n",
      "88\n",
      "wrong answer, guess smaller\n",
      "1 < ? < 88\n",
      "86\n",
      "wrong answer, guess larger\n",
      "86 < ? < 88\n",
      "87\n",
      "bingo answer is 87\n"
     ]
    }
   ],
   "source": [
    "#[NCTS] 葉冠宏 自設題目的終極密碼\n",
    "guessAnswer=eval(input())\n",
    "ansMax=100\n",
    "ansMin=1\n",
    "guessNum=0\n",
    "while guessNum != guessAnswer:\n",
    "    print(ansMin, '< ? <',ansMax)\n",
    "    guessNum=eval(input())\n",
    "    if guessNum > ansMin and guessNum < ansMax:\n",
    "        if guessNum > guessAnswer:\n",
    "            print('wrong answer, guess smaller')\n",
    "            ansMax = guessNum\n",
    "        elif guessNum < guessAnswer:\n",
    "            print('wrong answer, guess larger')\n",
    "            ansMin = guessNum\n",
    "        else:\n",
    "            print('bingo answer is',guessAnswer)"
   ]
  },
  {
   "cell_type": "code",
   "execution_count": 2,
   "metadata": {},
   "outputs": [
    {
     "name": "stdout",
     "output_type": "stream",
     "text": [
      "1234\n",
      "2345\n",
      "0A3B\n",
      "6789\n",
      "0A0B\n",
      "1234\n",
      "4A0B\n",
      "You Win!\n"
     ]
    },
    {
     "ename": "SystemExit",
     "evalue": "",
     "output_type": "error",
     "traceback": [
      "An exception has occurred, use %tb to see the full traceback.\n",
      "\u001b[1;31mSystemExit\u001b[0m\n"
     ]
    },
    {
     "name": "stderr",
     "output_type": "stream",
     "text": [
      "C:\\Users\\Peter\\Anaconda3\\lib\\site-packages\\IPython\\core\\interactiveshell.py:2918: UserWarning: To exit: use 'exit', 'quit', or Ctrl-D.\n",
      "  warn(\"To exit: use 'exit', 'quit', or Ctrl-D.\", stacklevel=1)\n"
     ]
    }
   ],
   "source": [
    "import sys\n",
    "ans = input()\n",
    "while True:\n",
    "    a = 0\n",
    "    b = 0\n",
    "    guess = input()\n",
    "    for i in range(4):\n",
    "        if guess[i] == ans[i]:\n",
    "            a += 1\n",
    "    for j in range(4):\n",
    "        for k in range(4):\n",
    "            if guess[j] == ans[k]:\n",
    "                b = b + 1\n",
    "    b -= a\n",
    "    print(str(a)+\"A\"+str(b)+\"B\")\n",
    "    if guess == ans:\n",
    "        print('You Win!')\n",
    "        sys.exit()"
   ]
  },
  {
   "cell_type": "code",
   "execution_count": 83,
   "metadata": {},
   "outputs": [],
   "source": [
    "%matplotlib inline\n",
    "\n",
    "def random_matrix(n,t):\n",
    "    import numpy as np\n",
    "    matrix = np.random.rand(n,n)\n",
    "    if t==1: \n",
    "        print('左隨機矩陣')\n",
    "        print(matrix/matrix.sum(axis=0)[None,:]) #每行的和為1、左隨機矩陣\n",
    "    elif t==2:\n",
    "        print('右隨機矩陣')\n",
    "        print(matrix/matrix.sum(axis=1)[:,None]) #每列的和為1、右隨機矩陣\n",
    "    else:\n",
    "        print('Error! Please input the right parameter.')"
   ]
  },
  {
   "cell_type": "code",
   "execution_count": 84,
   "metadata": {},
   "outputs": [
    {
     "name": "stdout",
     "output_type": "stream",
     "text": [
      "右隨機矩陣\n",
      "[[0.44204203 0.43828967 0.11966829]\n",
      " [0.44476353 0.37398378 0.18125269]\n",
      " [0.70426967 0.23180877 0.06392157]]\n"
     ]
    }
   ],
   "source": [
    "random_matrix(3,2)"
   ]
  },
  {
   "cell_type": "code",
   "execution_count": null,
   "metadata": {},
   "outputs": [],
   "source": []
  },
  {
   "cell_type": "code",
   "execution_count": null,
   "metadata": {},
   "outputs": [],
   "source": []
  }
 ],
 "metadata": {
  "kernelspec": {
   "display_name": "Python 3",
   "language": "python",
   "name": "python3"
  },
  "language_info": {
   "codemirror_mode": {
    "name": "ipython",
    "version": 3
   },
   "file_extension": ".py",
   "mimetype": "text/x-python",
   "name": "python",
   "nbconvert_exporter": "python",
   "pygments_lexer": "ipython3",
   "version": "3.6.4"
  }
 },
 "nbformat": 4,
 "nbformat_minor": 2
}
